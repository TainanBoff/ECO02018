{
 "cells": [
  {
   "cell_type": "markdown",
   "metadata": {},
   "source": [
    "# Unidade IV: metodologia do e-Science\n",
    "\n",
    "## Pesquisa reproduzivel\n",
    "\n",
    "1. Repetibilidade\n",
    "2. Reprodutibilidade\n",
    "    1. Dados\n",
    "    2. Codigo\n",
    "    3. Documentacao\n",
    "    4. Distribuicao\n",
    "    \n",
    "Ver slides da ufpr sobre reproducibilidade.\n",
    "\n",
    "Open source: R / Python\n",
    "\n",
    "### Metodo cientifico\n",
    "\n",
    "1. Observacao\n",
    "2. Formulacao do problema\n",
    "3. Definir hipotese com base em um modelo teorico\n",
    "4. Analise de dados \n",
    "    1. Definicao dos requisitos dos dados (real/nominal, frequencia, etc.)\n",
    "    2. Coleta de dados    \n",
    "    3. Organizacao de dados (banco de dados. Ex.: Orcacle, Postgresql, MySQL, Mariadb, MS-SQLServer, sqlite, etc.)\n",
    "    4. Limpeza de dados\n",
    "    5. Exploracao de dados (graficos e estatisticas descritivas)\n",
    "    6. Mineracao de dados* (relacionado a big data - busca por correlacoes)\n",
    "    7. Modelagem dos dados (modelo empirico)\n",
    "5. Teste da hipotese (modelo teorico vs modelo empirico)\n",
    "6. Analise dos resultados\n",
    "7. Observacao\n",
    "\n",
    "### Planejamento da pesquisa\n",
    "\n",
    "#### Experimental \n",
    "- Experimento: descobrir relacao de causa e efeito\n",
    "- Randomized trial\n",
    "- Tipos de amostra: aleatoria, estratificada, agrupada/por conglomerado, sistematica\n",
    "\n",
    "#### Observacional \n",
    "- Pesquisa observacional\n",
    "    - quase experimental\n",
    "        - escolhido pelo pesquisador\n",
    "        - metodo diferencas em diferencas\n",
    "        - metodo de controle sintetico\n",
    "            - a coleta da amostra importa para o metodo que sera utilizado na analise\n",
    "        \n",
    "Nao se consegue estabelecer causalidade como na pesquisa experimental.\n",
    "        \n",
    "## Banco de dados\n",
    "\n",
    "Estruturas de dados organizadas.\n",
    "SQL: structured query language.\n",
    "\n",
    "SGBD: Sqlite.\n",
    "sqlite \"example.db\" "
   ]
  },
  {
   "cell_type": "code",
   "execution_count": 4,
   "metadata": {},
   "outputs": [],
   "source": [
    "import sqlite3"
   ]
  },
  {
   "cell_type": "code",
   "execution_count": 6,
   "metadata": {},
   "outputs": [],
   "source": [
    "conn = sqlite3.connect(\"example.db\")"
   ]
  },
  {
   "cell_type": "code",
   "execution_count": 7,
   "metadata": {},
   "outputs": [
    {
     "data": {
      "text/plain": [
       "<sqlite3.Cursor at 0x7f0c243ff110>"
      ]
     },
     "execution_count": 7,
     "metadata": {},
     "output_type": "execute_result"
    }
   ],
   "source": [
    "c = conn.cursor()\n",
    "\n",
    "# cria tabela \n",
    "c.execute('''CREATE TABLE stocks(date text, trans text, symbol text, qty real price real)''')\n",
    "\n",
    "# insere dados\n",
    "c.execute('''INSERT INTO  stocks VALUES ('2006-01-05', 'BUY', 'RHAT', 100, 35.14)''')\n",
    "\n",
    "# salva as mudancas feitas no banco\n",
    "conn.commit()\n",
    "\n",
    "# "
   ]
  }
 ],
 "metadata": {
  "kernelspec": {
   "display_name": "Python 3",
   "language": "python",
   "name": "python3"
  },
  "language_info": {
   "codemirror_mode": {
    "name": "ipython",
    "version": 3
   },
   "file_extension": ".py",
   "mimetype": "text/x-python",
   "name": "python",
   "nbconvert_exporter": "python",
   "pygments_lexer": "ipython3",
   "version": "3.6.5"
  }
 },
 "nbformat": 4,
 "nbformat_minor": 2
}
