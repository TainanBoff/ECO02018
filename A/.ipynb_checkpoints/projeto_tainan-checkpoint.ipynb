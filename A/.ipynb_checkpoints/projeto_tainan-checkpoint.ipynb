{
 "cells": [
  {
   "cell_type": "markdown",
   "metadata": {},
   "source": [
    "**UNIVERSIDADE FEDERAL DO RIO GRANDE DO SUL  \n",
    "FACULDADE DE CIENCIAS ECONOMICAS  \n",
    "DEPARTAMENTO DE ECONOMIA E RELACOES INTERNACIONAIS  \n",
    "DISCIPLINA: ECO02018 - TOPICOS ESPECIAIS EM ECONOMETRIA  \n",
    "ALUNA: TAINAN DE BACCO FREITAS BOFF**  "
   ]
  },
  {
   "cell_type": "markdown",
   "metadata": {},
   "source": [
    "# Analise dos determinantes do faturamento real medio da industria de transformacao"
   ]
  },
  {
   "cell_type": "markdown",
   "metadata": {},
   "source": [
    "Este estudo apresenta uma breve analise sobre a relacao existente entre o faturamento real medio da industria de transformacao e as seguintes variaveis:\n",
    "1. Utilizacao da capacidade instalada na industria de transformacao;  \n",
    "2. Produtividade do trabalho na industria de transformacao, calculada como a diferenca entre as variacoes do indice de producao fisica e as variacoes do indice de horas trabalhadas;\n",
    "3. Custo do trabalho na industria de transformacao, calculado como a razao entre o indice de massa salarial real e o indice de horas trabalhadas.  \n",
    "Todas as variaveis sao obtidas em formato de indice atraves do Sistema Gerenciador de Series Temporais do Banco Central. A analise considera o periodo de 121 meses abrangidos entre janeiro de 2006 e janeiro de 2016."
   ]
  },
  {
   "cell_type": "code",
   "execution_count": 181,
   "metadata": {},
   "outputs": [],
   "source": [
    "# Importacao de pacotes\n",
    "import pandas as pd\n",
    "from functools import reduce\n",
    "import matplotlib.pyplot as plt\n",
    "import statsmodels.api as sm\n",
    "import statsmodels.formula.api as smf\n",
    "import statsmodels.tsa as smt\n",
    "import numpy as np"
   ]
  },
  {
   "cell_type": "markdown",
   "metadata": {},
   "source": [
    "## Importacao dos dados"
   ]
  },
  {
   "cell_type": "code",
   "execution_count": 89,
   "metadata": {},
   "outputs": [],
   "source": [
    "# Faturamento medio da industria de transformacao\n",
    "faturamento = pd.read_csv('http://api.bcb.gov.br/dados/serie/bcdata.sgs.24346/dados?formato=csv', sep = ';', encoding = 'utf-8', decimal = ',', index_col = 'data', parse_dates = ['data'])\n",
    "faturamento = faturamento.loc['2006-01-01':'2016-01-01']\n",
    "\n",
    "# Utilizacao da capacidade instalada\n",
    "utilizacao = pd.read_csv('http://api.bcb.gov.br/dados/serie/bcdata.sgs.24351/dados?formato=csv', sep = ';', encoding = 'utf-8', decimal = ',', index_col = 'data', parse_dates = ['data'])\n",
    "utilizacao = utilizacao.loc['2006-01-01':'2016-01-01']\n",
    "\n",
    "# Produtividade: calculada como a diferenca entre variacoes da producao fisica e variacoes do numero de horas trabalhadas\n",
    "producao = pd.read_csv('http://api.bcb.gov.br/dados/serie/bcdata.sgs.21862/dados?formato=csv', sep = ';', encoding = 'utf-8', decimal = ',', index_col = 'data', parse_dates = ['data'])\n",
    "producao = producao.loc['2006-01-01':'2016-01-01']\n",
    "dlogproducao = np.log(producao).diff()\n",
    "\n",
    "horas = pd.read_csv('http://api.bcb.gov.br/dados/serie/bcdata.sgs.24348/dados?formato=csv', sep = ';', encoding = 'utf-8', decimal = ',', index_col = 'data', parse_dates = ['data'])\n",
    "horas = horas.loc['2006-01-01':'2016-01-01']\n",
    "dloghoras = np.log(horas).diff()\n",
    "\n",
    "produtividade = dlogproducao - dloghoras\n",
    "\n",
    "# Custo do trabalho: calculado como a razao entre o indice de massa salarial real e o indice de horas trabalhadas na industria de transformacao (ambos com base em 2006)\n",
    "salarios = pd.read_csv('http://api.bcb.gov.br/dados/serie/bcdata.sgs.24349/dados?formato=csv', sep = ';', encoding = 'utf-8', decimal = ',', index_col = 'data', parse_dates = ['data'])\n",
    "salarios = salarios.loc['2006-01-01':'2016-01-01']\n",
    "\n",
    "custo = salarios/horas"
   ]
  },
  {
   "cell_type": "markdown",
   "metadata": {},
   "source": [
    "## Analise exploratoria dos dados\n",
    "\n",
    "Inicialmente sera realizada a analise exploratoria dos dados. Por tratarem-se de series temporais economicas, e indispensavel a realizacao de inspecao grafica e teste de raiz unitaria a fim de verificar nao-estacionariedades, tais como tendencia e sazonalidade nas series. Alem disso, o calculo de estatisticas descritivas - tais como media, desvio padrao, maximo, minimo, etc. - permite uma melhor compreensao sobre a distribuicao dos dados e a eventual identificacao de observacoes aberrantes."
   ]
  },
  {
   "cell_type": "markdown",
   "metadata": {},
   "source": [
    "#### Faturamento"
   ]
  },
  {
   "cell_type": "code",
   "execution_count": 88,
   "metadata": {},
   "outputs": [
    {
     "data": {
      "text/html": [
       "<div>\n",
       "<style scoped>\n",
       "    .dataframe tbody tr th:only-of-type {\n",
       "        vertical-align: middle;\n",
       "    }\n",
       "\n",
       "    .dataframe tbody tr th {\n",
       "        vertical-align: top;\n",
       "    }\n",
       "\n",
       "    .dataframe thead th {\n",
       "        text-align: right;\n",
       "    }\n",
       "</style>\n",
       "<table border=\"1\" class=\"dataframe\">\n",
       "  <thead>\n",
       "    <tr style=\"text-align: right;\">\n",
       "      <th></th>\n",
       "      <th>valor</th>\n",
       "    </tr>\n",
       "    <tr>\n",
       "      <th>data</th>\n",
       "      <th></th>\n",
       "    </tr>\n",
       "  </thead>\n",
       "  <tbody>\n",
       "    <tr>\n",
       "      <th>2006-01-01</th>\n",
       "      <td>87.9</td>\n",
       "    </tr>\n",
       "    <tr>\n",
       "      <th>2006-01-02</th>\n",
       "      <td>86.2</td>\n",
       "    </tr>\n",
       "    <tr>\n",
       "      <th>2006-01-03</th>\n",
       "      <td>102.7</td>\n",
       "    </tr>\n",
       "    <tr>\n",
       "      <th>2006-01-04</th>\n",
       "      <td>91.4</td>\n",
       "    </tr>\n",
       "    <tr>\n",
       "      <th>2006-01-05</th>\n",
       "      <td>102.0</td>\n",
       "    </tr>\n",
       "  </tbody>\n",
       "</table>\n",
       "</div>"
      ],
      "text/plain": [
       "            valor\n",
       "data             \n",
       "2006-01-01   87.9\n",
       "2006-01-02   86.2\n",
       "2006-01-03  102.7\n",
       "2006-01-04   91.4\n",
       "2006-01-05  102.0"
      ]
     },
     "execution_count": 88,
     "metadata": {},
     "output_type": "execute_result"
    }
   ],
   "source": [
    "faturamento.head()"
   ]
  },
  {
   "cell_type": "code",
   "execution_count": 194,
   "metadata": {},
   "outputs": [
    {
     "data": {
      "image/png": "[encoded data removed]",
      "text/plain": [
       "<Figure size 432x288 with 1 Axes>"
      ]
     },
     "metadata": {},
     "output_type": "display_data"
    }
   ],
   "source": [
    "plt_faturamento = plt.plot(faturamento)\n",
    "plt.savefig(\"imagens/faturamento.png\")\n",
    "plt.show()"
   ]
  },
  {
   "cell_type": "markdown",
   "metadata": {},
   "source": [
    "#### Utilizacao da capacidade instalada"
   ]
  },
  {
   "cell_type": "code",
   "execution_count": 87,
   "metadata": {},
   "outputs": [
    {
     "data": {
      "text/html": [
       "<div>\n",
       "<style scoped>\n",
       "    .dataframe tbody tr th:only-of-type {\n",
       "        vertical-align: middle;\n",
       "    }\n",
       "\n",
       "    .dataframe tbody tr th {\n",
       "        vertical-align: top;\n",
       "    }\n",
       "\n",
       "    .dataframe thead th {\n",
       "        text-align: right;\n",
       "    }\n",
       "</style>\n",
       "<table border=\"1\" class=\"dataframe\">\n",
       "  <thead>\n",
       "    <tr style=\"text-align: right;\">\n",
       "      <th></th>\n",
       "      <th>valor</th>\n",
       "    </tr>\n",
       "    <tr>\n",
       "      <th>data</th>\n",
       "      <th></th>\n",
       "    </tr>\n",
       "  </thead>\n",
       "  <tbody>\n",
       "    <tr>\n",
       "      <th>2006-01-01</th>\n",
       "      <td>79.5</td>\n",
       "    </tr>\n",
       "    <tr>\n",
       "      <th>2006-01-02</th>\n",
       "      <td>80.3</td>\n",
       "    </tr>\n",
       "    <tr>\n",
       "      <th>2006-01-03</th>\n",
       "      <td>81.3</td>\n",
       "    </tr>\n",
       "    <tr>\n",
       "      <th>2006-01-04</th>\n",
       "      <td>80.1</td>\n",
       "    </tr>\n",
       "    <tr>\n",
       "      <th>2006-01-05</th>\n",
       "      <td>82.8</td>\n",
       "    </tr>\n",
       "  </tbody>\n",
       "</table>\n",
       "</div>"
      ],
      "text/plain": [
       "            valor\n",
       "data             \n",
       "2006-01-01   79.5\n",
       "2006-01-02   80.3\n",
       "2006-01-03   81.3\n",
       "2006-01-04   80.1\n",
       "2006-01-05   82.8"
      ]
     },
     "execution_count": 87,
     "metadata": {},
     "output_type": "execute_result"
    }
   ],
   "source": [
    "utilizacao.head()"
   ]
  },
  {
   "cell_type": "code",
   "execution_count": 195,
   "metadata": {},
   "outputs": [
    {
     "data": {
      "image/png": "[encoded data removed]",
      "text/plain": [
       "<Figure size 432x288 with 1 Axes>"
      ]
     },
     "metadata": {},
     "output_type": "display_data"
    }
   ],
   "source": [
    "plt_utlizacao = plt.plot(utilizacao)\n",
    "plt.savefig(\"imagens/utilizacao.png\")\n",
    "plt.show()"
   ]
  },
  {
   "cell_type": "markdown",
   "metadata": {},
   "source": [
    "#### Produtividade do trabalho"
   ]
  },
  {
   "cell_type": "code",
   "execution_count": 66,
   "metadata": {
    "scrolled": true
   },
   "outputs": [
    {
     "data": {
      "text/html": [
       "<div>\n",
       "<style scoped>\n",
       "    .dataframe tbody tr th:only-of-type {\n",
       "        vertical-align: middle;\n",
       "    }\n",
       "\n",
       "    .dataframe tbody tr th {\n",
       "        vertical-align: top;\n",
       "    }\n",
       "\n",
       "    .dataframe thead th {\n",
       "        text-align: right;\n",
       "    }\n",
       "</style>\n",
       "<table border=\"1\" class=\"dataframe\">\n",
       "  <thead>\n",
       "    <tr style=\"text-align: right;\">\n",
       "      <th></th>\n",
       "      <th>valor</th>\n",
       "    </tr>\n",
       "    <tr>\n",
       "      <th>data</th>\n",
       "      <th></th>\n",
       "    </tr>\n",
       "  </thead>\n",
       "  <tbody>\n",
       "    <tr>\n",
       "      <th>2006-01-01</th>\n",
       "      <td>NaN</td>\n",
       "    </tr>\n",
       "    <tr>\n",
       "      <th>2006-01-02</th>\n",
       "      <td>-0.042144</td>\n",
       "    </tr>\n",
       "    <tr>\n",
       "      <th>2006-01-03</th>\n",
       "      <td>0.051832</td>\n",
       "    </tr>\n",
       "    <tr>\n",
       "      <th>2006-01-04</th>\n",
       "      <td>-0.024360</td>\n",
       "    </tr>\n",
       "    <tr>\n",
       "      <th>2006-01-05</th>\n",
       "      <td>0.026741</td>\n",
       "    </tr>\n",
       "  </tbody>\n",
       "</table>\n",
       "</div>"
      ],
      "text/plain": [
       "               valor\n",
       "data                \n",
       "2006-01-01       NaN\n",
       "2006-01-02 -0.042144\n",
       "2006-01-03  0.051832\n",
       "2006-01-04 -0.024360\n",
       "2006-01-05  0.026741"
      ]
     },
     "execution_count": 66,
     "metadata": {},
     "output_type": "execute_result"
    }
   ],
   "source": [
    "produtividade.head()"
   ]
  },
  {
   "cell_type": "code",
   "execution_count": 196,
   "metadata": {},
   "outputs": [
    {
     "data": {
      "image/png": "[encoded data removed]",
      "text/plain": [
       "<Figure size 432x288 with 1 Axes>"
      ]
     },
     "metadata": {},
     "output_type": "display_data"
    }
   ],
   "source": [
    "plt_produtividade = plt.plot(produtividade)\n",
    "plt.savefig(\"imagens/produtividade.png\")\n",
    "plt.show()"
   ]
  },
  {
   "cell_type": "markdown",
   "metadata": {},
   "source": [
    "#### Custo do trabalho"
   ]
  },
  {
   "cell_type": "code",
   "execution_count": 81,
   "metadata": {
    "scrolled": true
   },
   "outputs": [
    {
     "data": {
      "text/html": [
       "<div>\n",
       "<style scoped>\n",
       "    .dataframe tbody tr th:only-of-type {\n",
       "        vertical-align: middle;\n",
       "    }\n",
       "\n",
       "    .dataframe tbody tr th {\n",
       "        vertical-align: top;\n",
       "    }\n",
       "\n",
       "    .dataframe thead th {\n",
       "        text-align: right;\n",
       "    }\n",
       "</style>\n",
       "<table border=\"1\" class=\"dataframe\">\n",
       "  <thead>\n",
       "    <tr style=\"text-align: right;\">\n",
       "      <th></th>\n",
       "      <th>valor</th>\n",
       "    </tr>\n",
       "    <tr>\n",
       "      <th>data</th>\n",
       "      <th></th>\n",
       "    </tr>\n",
       "  </thead>\n",
       "  <tbody>\n",
       "    <tr>\n",
       "      <th>2006-01-01</th>\n",
       "      <td>1.032751</td>\n",
       "    </tr>\n",
       "    <tr>\n",
       "      <th>2006-01-02</th>\n",
       "      <td>1.041304</td>\n",
       "    </tr>\n",
       "    <tr>\n",
       "      <th>2006-01-03</th>\n",
       "      <td>0.957299</td>\n",
       "    </tr>\n",
       "    <tr>\n",
       "      <th>2006-01-04</th>\n",
       "      <td>1.010482</td>\n",
       "    </tr>\n",
       "    <tr>\n",
       "      <th>2006-01-05</th>\n",
       "      <td>0.946911</td>\n",
       "    </tr>\n",
       "  </tbody>\n",
       "</table>\n",
       "</div>"
      ],
      "text/plain": [
       "               valor\n",
       "data                \n",
       "2006-01-01  1.032751\n",
       "2006-01-02  1.041304\n",
       "2006-01-03  0.957299\n",
       "2006-01-04  1.010482\n",
       "2006-01-05  0.946911"
      ]
     },
     "execution_count": 81,
     "metadata": {},
     "output_type": "execute_result"
    }
   ],
   "source": [
    "custo.head()"
   ]
  },
  {
   "cell_type": "code",
   "execution_count": 197,
   "metadata": {},
   "outputs": [
    {
     "data": {
      "image/png": "[encoded data removed]",
      "text/plain": [
       "<Figure size 432x288 with 1 Axes>"
      ]
     },
     "metadata": {},
     "output_type": "display_data"
    }
   ],
   "source": [
    "plt_custo = plt.plot(custo)\n",
    "plt.savefig(\"imagens/custo.png\")\n",
    "plt.show()"
   ]
  },
  {
   "cell_type": "markdown",
   "metadata": {},
   "source": [
    "Com excecao da serie de produtividade, todas as demais apresentam certa tendencia. O faturamento apresentou tendencia de alta ate o ano de 2013, quando comecou a cair. A utilizacao da capacidade instalada mantinha-se em um patamar relativamente constante ate este mesmo ano, quando comecou a cair. Por fim, os custos do trabalho sao crescentes ao longo de todo o periodo, o que provavelmente e um resultado da politica de valorizacao real do salario minimo."
   ]
  },
  {
   "cell_type": "markdown",
   "metadata": {},
   "source": [
    "### Estatisticas descritivas\n",
    "\n",
    "As estatisticas descritivas apresentadas para cada uma das series em em nivel sao: numero de observacoes, media, desvio-padrao, minimo, segundo, terceiro e quarto quintis e o valor maximo."
   ]
  },
  {
   "cell_type": "code",
   "execution_count": 228,
   "metadata": {},
   "outputs": [
    {
     "name": "stdout",
     "output_type": "stream",
     "text": [
      "       faturamento  utilizacao  produtividade       custo\n",
      "count   121.000000  121.000000     120.000000  121.000000\n",
      "mean    116.180165   81.914050       0.000004    1.122322\n",
      "std      12.412800    2.123256       0.031825    0.159942\n",
      "min      86.200000   74.400000      -0.075673    0.907563\n",
      "25%     108.100000   80.700000      -0.018458    1.002860\n",
      "50%     116.600000   82.300000      -0.005425    1.082374\n",
      "75%     125.000000   83.400000       0.024098    1.202912\n",
      "max     140.900000   85.100000       0.091902    1.760300\n"
     ]
    }
   ],
   "source": [
    "# Unifica os dados\n",
    "dados = reduce(lambda left,right: pd.merge(left,right, on = 'data'), [faturamento, utilizacao, produtividade, custo])\n",
    "dados.columns = ['faturamento', 'utilizacao', 'produtividade', 'custo']\n",
    "\n",
    "# Estatisticas descritivas\n",
    "est_desc_dados = dados.describe()\n",
    "print(est_desc_dados)\n",
    "\n",
    "# Salva a tabela de estatisticas descritivas em arquivo .csv\n",
    "est_desc_dados.to_csv('tabelas/est_desc_dados.csv')"
   ]
  },
  {
   "cell_type": "markdown",
   "metadata": {},
   "source": [
    "## Teste de Dickey-Fuller aumentado para raiz unitaria\n",
    "\n",
    "O teste de Dickey-Fuller aumentado tem como hipotese nula a presenca de raiz unitaria."
   ]
  },
  {
   "cell_type": "markdown",
   "metadata": {},
   "source": [
    "#### Faturamento"
   ]
  },
  {
   "cell_type": "code",
   "execution_count": 99,
   "metadata": {
    "scrolled": false
   },
   "outputs": [
    {
     "name": "stdout",
     "output_type": "stream",
     "text": [
      "Estatistica de teste: -1.9317809558990315\n",
      "Valores criticos para a estatistica de teste: {'1%': -3.492995948509562, '5%': -2.888954648057252, '10%': -2.58139291903223}\n",
      "P-valor: 0.31726116843685265\n"
     ]
    }
   ],
   "source": [
    "adf_faturamento = sm.tsa.stattools.adfuller(faturamento.valor)\n",
    "print(\"Estatistica de teste:\", adf_faturamento[0])\n",
    "print(\"Valores criticos para a estatistica de teste:\", adf_faturamento[4])\n",
    "print(\"P-valor:\", adf_faturamento[1])"
   ]
  },
  {
   "cell_type": "markdown",
   "metadata": {},
   "source": [
    "A estatistica de teste indica que ha raiz unitaria na serie de faturamento da industria de transformacao, ou seja, ha evidencias de que a serie e nao estacionaria ao nivel de significancia de 10%."
   ]
  },
  {
   "cell_type": "markdown",
   "metadata": {},
   "source": [
    "#### Utilizacao da capacidade instalada"
   ]
  },
  {
   "cell_type": "code",
   "execution_count": 42,
   "metadata": {},
   "outputs": [
    {
     "name": "stdout",
     "output_type": "stream",
     "text": [
      "Estatistica de teste: -1.0773597246997877\n",
      "Valores criticos para a estatistica de teste: {'1%': -3.4924012594942333, '5%': -2.8886968193364835, '10%': -2.5812552709190673}\n",
      "P-valor: 0.7240156302884798\n"
     ]
    }
   ],
   "source": [
    "adf_utilizacao = sm.tsa.stattools.adfuller(utilizacao.valor)\n",
    "print(\"Estatistica de teste:\", adf_utilizacao[0])\n",
    "print(\"Valores criticos para a estatistica de teste:\", adf_utilizacao[4])\n",
    "print(\"P-valor:\", adf_utilizacao[1])"
   ]
  },
  {
   "cell_type": "markdown",
   "metadata": {},
   "source": [
    "A estatistica de teste indica que ha raiz unitaria na serie de utilizacao da capacidade instalada na industria de transformacao, ou seja, ha evidencias de que a serie e nao estacionaria ao nivel de significancia de 10%."
   ]
  },
  {
   "cell_type": "markdown",
   "metadata": {},
   "source": [
    "#### Produtividade do trabalho"
   ]
  },
  {
   "cell_type": "code",
   "execution_count": 254,
   "metadata": {},
   "outputs": [
    {
     "name": "stdout",
     "output_type": "stream",
     "text": [
      "Estatistica de teste: -2.8714992557317442\n",
      "Valores criticos para a estatistica de teste: {'1%': -3.4924012594942333, '5%': -2.8886968193364835, '10%': -2.5812552709190673}\n",
      "P-valor: 0.04876404580605681\n"
     ]
    }
   ],
   "source": [
    "adf_produtividade = sm.tsa.stattools.adfuller(produtividade.valor.dropna())\n",
    "print(\"Estatistica de teste:\", adf_produtividade[0])\n",
    "print(\"Valores criticos para a estatistica de teste:\", adf_produtividade[4])\n",
    "print(\"P-valor:\", adf_produtividade[1])"
   ]
  },
  {
   "cell_type": "markdown",
   "metadata": {},
   "source": [
    "As series de producao fisica e horas trabalhadas na industria de transformacao, utilizadas para o calculo da produtividade, ja haviam sido previamente diferenciadas. O teste ADF confirma que nao ha indicios de nao estacionariedade na serie da produtividade ao nivel de significancia de 5%."
   ]
  },
  {
   "cell_type": "markdown",
   "metadata": {},
   "source": [
    "#### Custo do trabalho"
   ]
  },
  {
   "cell_type": "code",
   "execution_count": 215,
   "metadata": {
    "scrolled": true
   },
   "outputs": [
    {
     "name": "stdout",
     "output_type": "stream",
     "text": [
      "Estatistica de teste: 0.9574961674559265\n",
      "Valores criticos para a estatistica de teste: {'1%': -3.492995948509562, '5%': -2.888954648057252, '10%': -2.58139291903223}\n",
      "P-valor: 0.993796610508264\n"
     ]
    }
   ],
   "source": [
    "adf_custo = sm.tsa.stattools.adfuller(custo.valor)\n",
    "print(\"Estatistica de teste:\", adf_custo[0])\n",
    "print(\"Valores criticos para a estatistica de teste:\", adf_custo[4])\n",
    "print(\"P-valor:\", adf_custo[1])"
   ]
  },
  {
   "cell_type": "markdown",
   "metadata": {},
   "source": [
    "A estatistica de teste indica que ha raiz unitaria na serie de custo do trabalho, ou seja, ha evidencias de que a serie e nao estacionaria ao nivel de significancia de 10%."
   ]
  },
  {
   "cell_type": "markdown",
   "metadata": {},
   "source": [
    "## Calculo das diferencas logaritmicas para obtencao de series estacionarias"
   ]
  },
  {
   "cell_type": "markdown",
   "metadata": {},
   "source": [
    "#### Faturamento"
   ]
  },
  {
   "cell_type": "code",
   "execution_count": 100,
   "metadata": {},
   "outputs": [
    {
     "data": {
      "text/html": [
       "<div>\n",
       "<style scoped>\n",
       "    .dataframe tbody tr th:only-of-type {\n",
       "        vertical-align: middle;\n",
       "    }\n",
       "\n",
       "    .dataframe tbody tr th {\n",
       "        vertical-align: top;\n",
       "    }\n",
       "\n",
       "    .dataframe thead th {\n",
       "        text-align: right;\n",
       "    }\n",
       "</style>\n",
       "<table border=\"1\" class=\"dataframe\">\n",
       "  <thead>\n",
       "    <tr style=\"text-align: right;\">\n",
       "      <th></th>\n",
       "      <th>valor</th>\n",
       "    </tr>\n",
       "    <tr>\n",
       "      <th>data</th>\n",
       "      <th></th>\n",
       "    </tr>\n",
       "  </thead>\n",
       "  <tbody>\n",
       "    <tr>\n",
       "      <th>2006-01-01</th>\n",
       "      <td>NaN</td>\n",
       "    </tr>\n",
       "    <tr>\n",
       "      <th>2006-01-02</th>\n",
       "      <td>-0.019530</td>\n",
       "    </tr>\n",
       "    <tr>\n",
       "      <th>2006-01-03</th>\n",
       "      <td>0.175142</td>\n",
       "    </tr>\n",
       "    <tr>\n",
       "      <th>2006-01-04</th>\n",
       "      <td>-0.116567</td>\n",
       "    </tr>\n",
       "    <tr>\n",
       "      <th>2006-01-05</th>\n",
       "      <td>0.109727</td>\n",
       "    </tr>\n",
       "  </tbody>\n",
       "</table>\n",
       "</div>"
      ],
      "text/plain": [
       "               valor\n",
       "data                \n",
       "2006-01-01       NaN\n",
       "2006-01-02 -0.019530\n",
       "2006-01-03  0.175142\n",
       "2006-01-04 -0.116567\n",
       "2006-01-05  0.109727"
      ]
     },
     "execution_count": 100,
     "metadata": {},
     "output_type": "execute_result"
    }
   ],
   "source": [
    "dlogfaturamento = np.log(faturamento).diff()\n",
    "dlogfaturamento.head()"
   ]
  },
  {
   "cell_type": "code",
   "execution_count": 220,
   "metadata": {},
   "outputs": [
    {
     "data": {
      "image/png": "[encoded data removed]",
      "text/plain": [
       "<Figure size 432x288 with 1 Axes>"
      ]
     },
     "metadata": {},
     "output_type": "display_data"
    }
   ],
   "source": [
    "plt_dlogfaturamento = plt.plot(dlogfaturamento)\n",
    "plt.savefig(\"imagens/dlogfaturamento.png\")\n",
    "plt.show()"
   ]
  },
  {
   "cell_type": "markdown",
   "metadata": {},
   "source": [
    "#### Utilizacao"
   ]
  },
  {
   "cell_type": "code",
   "execution_count": 102,
   "metadata": {},
   "outputs": [
    {
     "data": {
      "text/html": [
       "<div>\n",
       "<style scoped>\n",
       "    .dataframe tbody tr th:only-of-type {\n",
       "        vertical-align: middle;\n",
       "    }\n",
       "\n",
       "    .dataframe tbody tr th {\n",
       "        vertical-align: top;\n",
       "    }\n",
       "\n",
       "    .dataframe thead th {\n",
       "        text-align: right;\n",
       "    }\n",
       "</style>\n",
       "<table border=\"1\" class=\"dataframe\">\n",
       "  <thead>\n",
       "    <tr style=\"text-align: right;\">\n",
       "      <th></th>\n",
       "      <th>valor</th>\n",
       "    </tr>\n",
       "    <tr>\n",
       "      <th>data</th>\n",
       "      <th></th>\n",
       "    </tr>\n",
       "  </thead>\n",
       "  <tbody>\n",
       "    <tr>\n",
       "      <th>2006-01-01</th>\n",
       "      <td>NaN</td>\n",
       "    </tr>\n",
       "    <tr>\n",
       "      <th>2006-01-02</th>\n",
       "      <td>0.010013</td>\n",
       "    </tr>\n",
       "    <tr>\n",
       "      <th>2006-01-03</th>\n",
       "      <td>0.012376</td>\n",
       "    </tr>\n",
       "    <tr>\n",
       "      <th>2006-01-04</th>\n",
       "      <td>-0.014870</td>\n",
       "    </tr>\n",
       "    <tr>\n",
       "      <th>2006-01-05</th>\n",
       "      <td>0.033152</td>\n",
       "    </tr>\n",
       "  </tbody>\n",
       "</table>\n",
       "</div>"
      ],
      "text/plain": [
       "               valor\n",
       "data                \n",
       "2006-01-01       NaN\n",
       "2006-01-02  0.010013\n",
       "2006-01-03  0.012376\n",
       "2006-01-04 -0.014870\n",
       "2006-01-05  0.033152"
      ]
     },
     "execution_count": 102,
     "metadata": {},
     "output_type": "execute_result"
    }
   ],
   "source": [
    "dlogutilizacao = np.log(utilizacao).diff()\n",
    "dlogutilizacao.head()"
   ]
  },
  {
   "cell_type": "code",
   "execution_count": 221,
   "metadata": {},
   "outputs": [
    {
     "data": {
      "image/png": "[encoded data removed]",
      "text/plain": [
       "<Figure size 432x288 with 1 Axes>"
      ]
     },
     "metadata": {},
     "output_type": "display_data"
    }
   ],
   "source": [
    "plt_dlogutilizacao = plt.plot(dlogutilizacao)\n",
    "plt.savefig(\"imagens/dlogutilizacao.png\")\n",
    "plt.show()"
   ]
  },
  {
   "cell_type": "markdown",
   "metadata": {},
   "source": [
    "#### Custo do trabalho"
   ]
  },
  {
   "cell_type": "code",
   "execution_count": 223,
   "metadata": {},
   "outputs": [
    {
     "data": {
      "text/html": [
       "<div>\n",
       "<style scoped>\n",
       "    .dataframe tbody tr th:only-of-type {\n",
       "        vertical-align: middle;\n",
       "    }\n",
       "\n",
       "    .dataframe tbody tr th {\n",
       "        vertical-align: top;\n",
       "    }\n",
       "\n",
       "    .dataframe thead th {\n",
       "        text-align: right;\n",
       "    }\n",
       "</style>\n",
       "<table border=\"1\" class=\"dataframe\">\n",
       "  <thead>\n",
       "    <tr style=\"text-align: right;\">\n",
       "      <th></th>\n",
       "      <th>valor</th>\n",
       "    </tr>\n",
       "    <tr>\n",
       "      <th>data</th>\n",
       "      <th></th>\n",
       "    </tr>\n",
       "  </thead>\n",
       "  <tbody>\n",
       "    <tr>\n",
       "      <th>2006-01-01</th>\n",
       "      <td>NaN</td>\n",
       "    </tr>\n",
       "    <tr>\n",
       "      <th>2006-01-02</th>\n",
       "      <td>0.008248</td>\n",
       "    </tr>\n",
       "    <tr>\n",
       "      <th>2006-01-03</th>\n",
       "      <td>-0.084114</td>\n",
       "    </tr>\n",
       "    <tr>\n",
       "      <th>2006-01-04</th>\n",
       "      <td>0.054067</td>\n",
       "    </tr>\n",
       "    <tr>\n",
       "      <th>2006-01-05</th>\n",
       "      <td>-0.064978</td>\n",
       "    </tr>\n",
       "  </tbody>\n",
       "</table>\n",
       "</div>"
      ],
      "text/plain": [
       "               valor\n",
       "data                \n",
       "2006-01-01       NaN\n",
       "2006-01-02  0.008248\n",
       "2006-01-03 -0.084114\n",
       "2006-01-04  0.054067\n",
       "2006-01-05 -0.064978"
      ]
     },
     "execution_count": 223,
     "metadata": {},
     "output_type": "execute_result"
    }
   ],
   "source": [
    "dlogcusto = np.log(custo).diff()\n",
    "dlogcusto.head()"
   ]
  },
  {
   "cell_type": "code",
   "execution_count": 224,
   "metadata": {},
   "outputs": [
    {
     "data": {
      "image/png": "[encoded data removed]",
      "text/plain": [
       "<Figure size 432x288 with 1 Axes>"
      ]
     },
     "metadata": {},
     "output_type": "display_data"
    }
   ],
   "source": [
    "plt_dlogcusto = plt.plot(dlogcusto)\n",
    "plt.savefig(\"imagens/dlogcusto.png\")\n",
    "plt.show()"
   ]
  },
  {
   "cell_type": "markdown",
   "metadata": {},
   "source": [
    "A analise grafica das series diferenciadas nao sugere a necessidade de realizar uma nova diferenciacao ou teste de raiz unitaria. Todas apresentam media constante ao redor de zero. Abaixo apresentam-se estatisticas descritivas para estas series."
   ]
  },
  {
   "cell_type": "code",
   "execution_count": 229,
   "metadata": {
    "scrolled": true
   },
   "outputs": [
    {
     "name": "stdout",
     "output_type": "stream",
     "text": [
      "       dlogfaturamento  dlogutilizacao  dlogprodutividade   dlogcusto\n",
      "count       120.000000      120.000000         120.000000  120.000000\n",
      "mean          0.000389       -0.000553           0.000004    0.002544\n",
      "std           0.072859        0.015646           0.031825    0.100922\n",
      "min          -0.150044       -0.059645          -0.075673   -0.261464\n",
      "25%          -0.047620       -0.007122          -0.018458   -0.044019\n",
      "50%           0.004707        0.001209          -0.005425   -0.006581\n",
      "75%           0.039080        0.009535           0.024098    0.025466\n",
      "max           0.217332        0.036905           0.091902    0.304344\n"
     ]
    }
   ],
   "source": [
    "# Unificacao das series diferenciadas\n",
    "dlogdados = reduce(lambda left,right: pd.merge(left,right, on = 'data'), [dlogfaturamento, dlogutilizacao, produtividade, dlogcusto])\n",
    "dlogdados.columns = ['dlogfaturamento', 'dlogutilizacao', 'dlogprodutividade', 'dlogcusto']\n",
    "\n",
    "# Estatisticas descritivas\n",
    "est_desc_dlogdados = dlogdados.describe()\n",
    "print(est_desc_dlogdados)\n",
    "\n",
    "# Salva a tabela em .csv\n",
    "est_desc_dlogdados.to_csv('tabelas/est_desc_dlogdados.csv')"
   ]
  },
  {
   "cell_type": "markdown",
   "metadata": {},
   "source": [
    "# Regressao linear e diagnostico do modelo\n",
    "\n",
    "A modelagem do faturamento mensal das industrias de transformacao e feita atraves de uma regressao multipla. Utilizam-se tres variaveis explicativas: a utilizacao da capacidade instalada, a produtividade do trabalho e o custo do trabalho na industria de transformacao. Espera-se que o faturamento esteja positivamente relacionado as duas primeiras variaveis.  \n",
    "A maior utilizacao da capacidade instalada esta relacionada a uma maior producao, o que implicara em aumento do faturamento desde que essa producao seja vendida. A producao costuma ser puxada pela demanda e a industria trabalha com capacidade ociosa quando ha perspectiva de acumulacao de estoques. Por isso, espera-se que um aumento da utilizacao da capacidade instalada venha acompanhado de um aumento do faturamento.     \n",
    "A produtividade do trabalho refere-se a quantidade de bens que cada hora de trabalho e capaz de produzir. O aumento produtividade levara a um aumento do faturamente (novamente, desde que a produca nao seja estocada).  \n",
    "Por fim, a relacao entre o faturamento e o aumento do salario pago para cada hora trabalhada sera um indicativo do que ocorre com a rentabilidade da industria de transformacao. Se o faturamento aumentar juntamente com a elevacao do salario, que e um custo para a empresa, isso indica uma protecao as margens de lucro. Por outro lado, um coeficiente negativo indica a reducao das margens da industria, o que tambem e um indicio de um mercado mais concorrencial."
   ]
  },
  {
   "cell_type": "code",
   "execution_count": 251,
   "metadata": {},
   "outputs": [
    {
     "data": {
      "text/html": [
       "<table class=\"simpletable\">\n",
       "<caption>OLS Regression Results</caption>\n",
       "<tr>\n",
       "  <th>Dep. Variable:</th>     <td>dlogfaturamento</td> <th>  R-squared:         </th> <td>   0.651</td>\n",
       "</tr>\n",
       "<tr>\n",
       "  <th>Model:</th>                   <td>OLS</td>       <th>  Adj. R-squared:    </th> <td>   0.642</td>\n",
       "</tr>\n",
       "<tr>\n",
       "  <th>Method:</th>             <td>Least Squares</td>  <th>  F-statistic:       </th> <td>   72.68</td>\n",
       "</tr>\n",
       "<tr>\n",
       "  <th>Date:</th>             <td>Fri, 13 Jul 2018</td> <th>  Prob (F-statistic):</th> <td>1.31e-26</td>\n",
       "</tr>\n",
       "<tr>\n",
       "  <th>Time:</th>                 <td>23:09:13</td>     <th>  Log-Likelihood:    </th> <td>  207.66</td>\n",
       "</tr>\n",
       "<tr>\n",
       "  <th>No. Observations:</th>      <td>   120</td>      <th>  AIC:               </th> <td>  -409.3</td>\n",
       "</tr>\n",
       "<tr>\n",
       "  <th>Df Residuals:</th>          <td>   117</td>      <th>  BIC:               </th> <td>  -401.0</td>\n",
       "</tr>\n",
       "<tr>\n",
       "  <th>Df Model:</th>              <td>     3</td>      <th>                     </th>     <td> </td>   \n",
       "</tr>\n",
       "<tr>\n",
       "  <th>Covariance Type:</th>      <td>nonrobust</td>    <th>                     </th>     <td> </td>   \n",
       "</tr>\n",
       "</table>\n",
       "<table class=\"simpletable\">\n",
       "<tr>\n",
       "          <td></td>             <th>coef</th>     <th>std err</th>      <th>t</th>      <th>P>|t|</th>  <th>[0.025</th>    <th>0.975]</th>  \n",
       "</tr>\n",
       "<tr>\n",
       "  <th>dlogutilizacao</th>    <td>    2.5588</td> <td>    0.404</td> <td>    6.331</td> <td> 0.000</td> <td>    1.758</td> <td>    3.359</td>\n",
       "</tr>\n",
       "<tr>\n",
       "  <th>dlogprodutividade</th> <td>    1.1365</td> <td>    0.157</td> <td>    7.223</td> <td> 0.000</td> <td>    0.825</td> <td>    1.448</td>\n",
       "</tr>\n",
       "<tr>\n",
       "  <th>dlogcusto</th>         <td>    0.2242</td> <td>    0.053</td> <td>    4.238</td> <td> 0.000</td> <td>    0.119</td> <td>    0.329</td>\n",
       "</tr>\n",
       "</table>\n",
       "<table class=\"simpletable\">\n",
       "<tr>\n",
       "  <th>Omnibus:</th>       <td> 0.074</td> <th>  Durbin-Watson:     </th> <td>   2.687</td>\n",
       "</tr>\n",
       "<tr>\n",
       "  <th>Prob(Omnibus):</th> <td> 0.964</td> <th>  Jarque-Bera (JB):  </th> <td>   0.224</td>\n",
       "</tr>\n",
       "<tr>\n",
       "  <th>Skew:</th>          <td>-0.029</td> <th>  Prob(JB):          </th> <td>   0.894</td>\n",
       "</tr>\n",
       "<tr>\n",
       "  <th>Kurtosis:</th>      <td> 2.797</td> <th>  Cond. No.          </th> <td>    10.7</td>\n",
       "</tr>\n",
       "</table><br/><br/>Warnings:<br/>[1] Standard Errors assume that the covariance matrix of the errors is correctly specified."
      ],
      "text/plain": [
       "<class 'statsmodels.iolib.summary.Summary'>\n",
       "\"\"\"\n",
       "                            OLS Regression Results                            \n",
       "==============================================================================\n",
       "Dep. Variable:        dlogfaturamento   R-squared:                       0.651\n",
       "Model:                            OLS   Adj. R-squared:                  0.642\n",
       "Method:                 Least Squares   F-statistic:                     72.68\n",
       "Date:                Fri, 13 Jul 2018   Prob (F-statistic):           1.31e-26\n",
       "Time:                        23:09:13   Log-Likelihood:                 207.66\n",
       "No. Observations:                 120   AIC:                            -409.3\n",
       "Df Residuals:                     117   BIC:                            -401.0\n",
       "Df Model:                           3                                         \n",
       "Covariance Type:            nonrobust                                         \n",
       "=====================================================================================\n",
       "                        coef    std err          t      P>|t|      [0.025      0.975]\n",
       "-------------------------------------------------------------------------------------\n",
       "dlogutilizacao        2.5588      0.404      6.331      0.000       1.758       3.359\n",
       "dlogprodutividade     1.1365      0.157      7.223      0.000       0.825       1.448\n",
       "dlogcusto             0.2242      0.053      4.238      0.000       0.119       0.329\n",
       "==============================================================================\n",
       "Omnibus:                        0.074   Durbin-Watson:                   2.687\n",
       "Prob(Omnibus):                  0.964   Jarque-Bera (JB):                0.224\n",
       "Skew:                          -0.029   Prob(JB):                        0.894\n",
       "Kurtosis:                       2.797   Cond. No.                         10.7\n",
       "==============================================================================\n",
       "\n",
       "Warnings:\n",
       "[1] Standard Errors assume that the covariance matrix of the errors is correctly specified.\n",
       "\"\"\""
      ]
     },
     "execution_count": 251,
     "metadata": {},
     "output_type": "execute_result"
    }
   ],
   "source": [
    "regressao = smf.ols(formula = 'dlogfaturamento ~ dlogutilizacao + dlogprodutividade + dlogcusto - 1', data = dlogdados,  missing = 'drop').fit()\n",
    "regressao.summary()"
   ]
  },
  {
   "cell_type": "markdown",
   "metadata": {},
   "source": [
    "Em uma primeira analise, todos os coeficientes mostraram-se significativos aos nivel de 10%. Porem faremos a analise dos resultados apos o dignostico da regressao."
   ]
  },
  {
   "cell_type": "markdown",
   "metadata": {},
   "source": [
    "## Diagnostico da regressao"
   ]
  },
  {
   "cell_type": "markdown",
   "metadata": {},
   "source": [
    "O modelo classico de regressao linear baseia-se em uma serie de hipoteses sobre os dados:\n",
    "1. Linearidade dos parametros;\n",
    "2. Homocedasticidade;\n",
    "3. Ausencia de autocorrelacao serial nos residuos;\n",
    "4. Normalidade dos residuos;\n",
    "\n",
    "Sob estas hipoteses, o estimador de minimos quadrados ordinarios (MQO) e o melhor estimador linear nao viesado. Quando alguma das hipoteses e violada, o estimador perde algumas de suas caracteristicas desejaveis.  \n",
    "\n",
    "A primeira analise sera a visualizacao do grafico dos residuos contra os valores ajustados, o qual devera mostrar-se uma nuvem de pontos aleatorios, sem qualquer tendencia. A presenca de algum padrao de comportamento nos pontos seria um indicativo de que a especificao linear nao estaria adequada aos dados."
   ]
  },
  {
   "cell_type": "code",
   "execution_count": 231,
   "metadata": {},
   "outputs": [
    {
     "data": {
      "image/png": "[encoded data removed]",
      "text/plain": [
       "<Figure size 432x288 with 1 Axes>"
      ]
     },
     "metadata": {},
     "output_type": "display_data"
    }
   ],
   "source": [
    "plt_res_fitt = plt.scatter(regressao.fittedvalues,regressao.resid)\n",
    "plt.savefig(\"imagens/res_fitt.png\")\n",
    "plt.show()"
   ]
  },
  {
   "cell_type": "markdown",
   "metadata": {},
   "source": [
    "A seguir, testaremos as hipoteses de homocedasticidade e ausencia de autocorrelacao serial dos residuos. Em ambos os casos a violacao da hipotese tem duas implicacoes:\n",
    "1. O estimador de MQO, apesar de permanecer nao viesado, deixa de ser eficiente;\n",
    "2. Os erros padrao do estimador contem erros, o que torna a inferencia invalida.\n",
    "Neste caso, e preciso utilizar um metodo de estimacao robusto, tal como minimos quadrados generalizados."
   ]
  },
  {
   "cell_type": "code",
   "execution_count": null,
   "metadata": {},
   "outputs": [],
   "source": []
  },
  {
   "cell_type": "markdown",
   "metadata": {},
   "source": [
    "### Teste de heterocedasticidade\n",
    "\n",
    "A hipotese de homocedasticidade significa que a variancia do erro e constante condicionalmente as variaveis explicativas. Quando esta hipotese falha, o estimador permanece nao viesado, mas perde sua eficiencia. Alem disso, os erros padrao dos estimadores sao viesados e, portanto, a inferencia perde sua validade. A seguir, testamos esta hipotese atraves do teste de Breusch-Pagan e de inspecao grafica do comportamento dos residuos quadrados contra os valores ajustados e as variaveis explicativas.\n"
   ]
  },
  {
   "cell_type": "markdown",
   "metadata": {},
   "source": [
    "#### Teste de Breusch-Pagan"
   ]
  },
  {
   "cell_type": "code",
   "execution_count": 173,
   "metadata": {},
   "outputs": [
    {
     "name": "stdout",
     "output_type": "stream",
     "text": [
      "Estatistica de teste: 3.6343979958930683\n",
      "P-valor: 0.1624802215844403\n",
      "Estatistica F: 1.2180706273906188\n",
      "P-valor da estatistica F: 0.30632579917834507\n"
     ]
    }
   ],
   "source": [
    "bpteste = sm.stats.diagnostic.het_breuschpagan(regressao.resid, regressao.model.exog)\n",
    "print('Estatistica de teste:', bpteste[0]) \n",
    "print('P-valor:', bpteste[1])  \n",
    "print('Estatistica F:', bpteste[2])  \n",
    "print('P-valor da estatistica F:', bpteste[3])"
   ]
  },
  {
   "cell_type": "markdown",
   "metadata": {},
   "source": [
    "O teste de Breusch-Pagan trabalha com a hipotese nula de homocedasticidade. Os resultados do teste nao permitem rejeitar esta hipotese ao nivel de significancia de 10%."
   ]
  },
  {
   "cell_type": "markdown",
   "metadata": {},
   "source": [
    "#### Grafico dos residuos quadrados contra valores ajustados e variaveis explicativas"
   ]
  },
  {
   "cell_type": "code",
   "execution_count": 174,
   "metadata": {
    "scrolled": true
   },
   "outputs": [
    {
     "data": {
      "image/png": "[encoded data removed]",
      "text/plain": [
       "<Figure size 432x288 with 1 Axes>"
      ]
     },
     "metadata": {},
     "output_type": "display_data"
    }
   ],
   "source": [
    "plt_res_fitt = plt.scatter(regressao.fittedvalues, regressao.resid**2)\n",
    "plt.show()"
   ]
  },
  {
   "cell_type": "code",
   "execution_count": 175,
   "metadata": {},
   "outputs": [
    {
     "data": {
      "image/png": "[encoded data removed]",
      "text/plain": [
       "<Figure size 432x288 with 1 Axes>"
      ]
     },
     "metadata": {},
     "output_type": "display_data"
    }
   ],
   "source": [
    "plt_res_util = plt.scatter(dlogutilizacao.dropna(), regressao.resid**2)\n",
    "plt.show()"
   ]
  },
  {
   "cell_type": "code",
   "execution_count": 176,
   "metadata": {},
   "outputs": [
    {
     "data": {
      "image/png": "[encoded data removed]",
      "text/plain": [
       "<Figure size 432x288 with 1 Axes>"
      ]
     },
     "metadata": {},
     "output_type": "display_data"
    }
   ],
   "source": [
    "plt_res_prod = plt.scatter(produtividade.dropna(), regressao.resid**2)\n",
    "plt.show()"
   ]
  },
  {
   "cell_type": "code",
   "execution_count": 167,
   "metadata": {},
   "outputs": [
    {
     "data": {
      "image/png": "[encoded data removed]",
      "text/plain": [
       "<Figure size 432x288 with 1 Axes>"
      ]
     },
     "metadata": {},
     "output_type": "display_data"
    }
   ],
   "source": [
    "plt_res_custo = plt.scatter(dlogcusto.dropna(), regressao.resid**2)\n",
    "plt.show()"
   ]
  },
  {
   "cell_type": "markdown",
   "metadata": {},
   "source": [
    "Os graficos dos residuos quadrados contra os valores ajustados e variaveis explicativas nao apresentam sinais de heterocedasticidade: nao ha sinal claro de tendencia ou qualquer outro padrao de comportamento. Os pontos parecem estar distribuidos aleatoriamente. "
   ]
  },
  {
   "cell_type": "markdown",
   "metadata": {},
   "source": [
    "### Teste de autocorrelacao dos residuos\n",
    "\n",
    "Se os residuos do modelo de regressao forem autocorrelacionados, o estimador de MQO deixa de ser eficiente e as inferencias deixam de ser confiaveis."
   ]
  },
  {
   "cell_type": "markdown",
   "metadata": {},
   "source": [
    "#### Teste de Durbin Watson\n",
    "\n",
    "A hipotese nula do teste de Durbin Watson e a de que nao existe correlacao serial enre os residuos. A estatistica de teste assume valores entre 0 e 4. Quanto mais proxima de 0, maior a evidencia de que existe autocorrelacao positiva. Quanto mais proxima de 4, maior a evidencia de correlacao negativa. Na ausencia de correlacao serial, a estatistica do teste e igual a 2. "
   ]
  },
  {
   "cell_type": "code",
   "execution_count": 177,
   "metadata": {},
   "outputs": [
    {
     "name": "stdout",
     "output_type": "stream",
     "text": [
      "A estatistica do teste e: 2.6865357142668427\n"
     ]
    }
   ],
   "source": [
    "dwteste = sm.stats.stattools.durbin_watson(regressao.resid)\n",
    "print('A estatistica do teste e:', dwteste)"
   ]
  },
  {
   "cell_type": "markdown",
   "metadata": {},
   "source": [
    "O resultado do teste sugere que existe um certo grau de autocorrelacao negativa nos residuos do modelo. Uma alternativa para reduzir essa estatistica seria testar a inclusao de outras variaveis no modelo."
   ]
  },
  {
   "cell_type": "markdown",
   "metadata": {},
   "source": [
    "### Teste de normalidade dos residuos"
   ]
  },
  {
   "cell_type": "markdown",
   "metadata": {},
   "source": [
    "#### Teste de Jarque-Bera"
   ]
  },
  {
   "cell_type": "code",
   "execution_count": 238,
   "metadata": {},
   "outputs": [
    {
     "name": "stdout",
     "output_type": "stream",
     "text": [
      "A estatistica de teste e: 3.47388292983069\n",
      "O p-valor e: 0.17605805772278527\n",
      "Assimetria: 0.007392181767581455\n",
      "Curtose: 2.1665985309822173\n"
     ]
    }
   ],
   "source": [
    "jbteste = sm.stats.stattools.jarque_bera(regressao.resid)\n",
    "print('A estatistica de teste e:',jbteste[0])\n",
    "print('O p-valor e:',jbteste[1])\n",
    "print('Assimetria:',jbteste[2])\n",
    "print('Curtose:',jbteste[3])"
   ]
  },
  {
   "cell_type": "markdown",
   "metadata": {},
   "source": [
    "De acordo com o p-valor do teste, nao e possivel rejeitar a hipotese nula de normalidade. "
   ]
  },
  {
   "cell_type": "markdown",
   "metadata": {},
   "source": [
    "### Teste de cointegracao \n",
    "\n",
    "Ao modelar dados de series temporais com tendencia atraves de regressao, e preciso estar atento a possibilidade de ocorrencia de uma regressao espuria. Esse problema acontece quando as variaveis em analise, apesar de nao serem correlacionadas, geram um modelo com coeficientes significantes e elevado R2. Isso acontece porque ambas as variaveis apresentam correlacao com uma terceira variavel em comum. Quando as variaveis possuem uma tendencia estocastica em comum, diz-se que existe um equilibrio de longo prazo. Neste caso, a modelagem da relacao entre as variaveis pode ser feita utilizando o modelo vetorial de correcao de erros (VEC).  \n",
    "A seguir, realiza-se o teste de cointegracao de Johansen a fim de verificar se os resultados do modelo ajustado podem sofrer do problema de regressao espuria."
   ]
  },
  {
   "cell_type": "markdown",
   "metadata": {},
   "source": [
    "#### Teste de Johansen\n",
    "\n",
    "O teste de Johansen e um procedimento para testar se existe cointegracao entre multiplas series de tempo. O teste baseia-se em duas estatisticas. Seja K o numero de variveis explicativas e seja r o numero de vetores de cointegracao:\n",
    "1. Estatistica de traco: e calculada sequencialmente de n = 0, ..., K e testa a hipotese nula de que r <= n com a alternativa de que r > n. A primeira nao rejeicao e tomada como uma estimativa de r.\n",
    "2. Estatistica de maximo autovalor: a hipotese alternativa e r = n + 1."
   ]
  },
  {
   "cell_type": "code",
   "execution_count": 234,
   "metadata": {},
   "outputs": [
    {
     "name": "stdout",
     "output_type": "stream",
     "text": [
      "As estatisticas de traco sao: [404.4201355  218.54211956 106.74359033  31.92634542]\n",
      "Os valores criticos para as estatisticas de traco, aos niveis de significancia de 1%, 5% e 10%, sao:\n",
      "[[44.4929 47.8545 54.6815]\n",
      " [27.0669 29.7961 35.4628]\n",
      " [13.4294 15.4943 19.9349]\n",
      " [ 2.7055  3.8415  6.6349]]\n",
      "As estatisticas de maximo autovalor sao: [185.87801594 111.79852923  74.81724491  31.92634542]\n",
      "Os valores criticos para as estatisticas de maximo autovalor, aos niveis de significancia de 1%, 5% e 10%, sao:\n",
      "[[25.1236 27.5858 32.7172]\n",
      " [18.8928 21.1314 25.865 ]\n",
      " [12.2971 14.2639 18.52  ]\n",
      " [ 2.7055  3.8415  6.6349]]\n"
     ]
    }
   ],
   "source": [
    "cointeste = smt.vector_ar.vecm.coint_johansen(dlogdados.dropna(),0,1)\n",
    "print('As estatisticas de traco sao:',cointeste.lr1)\n",
    "print('Os valores criticos para as estatisticas de traco, aos niveis de significancia de 1%, 5% e 10%, sao:')\n",
    "print(cointeste.cvt)\n",
    "print('As estatisticas de maximo autovalor sao:',cointeste.lr2)\n",
    "print('Os valores criticos para as estatisticas de maximo autovalor, aos niveis de significancia de 1%, 5% e 10%, sao:')\n",
    "print(cointeste.cvm)"
   ]
  },
  {
   "cell_type": "raw",
   "metadata": {},
   "source": [
    "O resultado do teste aponta para ausencia de vetor de cointegracao."
   ]
  },
  {
   "cell_type": "markdown",
   "metadata": {},
   "source": [
    "## Analise dos resultados"
   ]
  },
  {
   "cell_type": "markdown",
   "metadata": {},
   "source": [
    "Apos o diagnostico da regressao, nao serao realizadas alteracoes no modelo inicial. Portanto, segue-se a analise dos resultados."
   ]
  },
  {
   "cell_type": "code",
   "execution_count": 261,
   "metadata": {
    "scrolled": true
   },
   "outputs": [
    {
     "name": "stdout",
     "output_type": "stream",
     "text": [
      "                            OLS Regression Results                            \n",
      "==============================================================================\n",
      "Dep. Variable:        dlogfaturamento   R-squared:                       0.651\n",
      "Model:                            OLS   Adj. R-squared:                  0.642\n",
      "Method:                 Least Squares   F-statistic:                     72.68\n",
      "Date:                Fri, 13 Jul 2018   Prob (F-statistic):           1.31e-26\n",
      "Time:                        23:35:27   Log-Likelihood:                 207.66\n",
      "No. Observations:                 120   AIC:                            -409.3\n",
      "Df Residuals:                     117   BIC:                            -401.0\n",
      "Df Model:                           3                                         \n",
      "Covariance Type:            nonrobust                                         \n",
      "=====================================================================================\n",
      "                        coef    std err          t      P>|t|      [0.025      0.975]\n",
      "-------------------------------------------------------------------------------------\n",
      "dlogutilizacao        2.5588      0.404      6.331      0.000       1.758       3.359\n",
      "dlogprodutividade     1.1365      0.157      7.223      0.000       0.825       1.448\n",
      "dlogcusto             0.2242      0.053      4.238      0.000       0.119       0.329\n",
      "==============================================================================\n",
      "Omnibus:                        0.074   Durbin-Watson:                   2.687\n",
      "Prob(Omnibus):                  0.964   Jarque-Bera (JB):                0.224\n",
      "Skew:                          -0.029   Prob(JB):                        0.894\n",
      "Kurtosis:                       2.797   Cond. No.                         10.7\n",
      "==============================================================================\n",
      "\n",
      "Warnings:\n",
      "[1] Standard Errors assume that the covariance matrix of the errors is correctly specified.\n"
     ]
    }
   ],
   "source": [
    "resultado = regressao.summary()\n",
    "print(resultado)"
   ]
  },
  {
   "cell_type": "markdown",
   "metadata": {},
   "source": [
    "O R2 com valor de 0,83 indica que o modelo se ajusta bem aos dados. Os coeficientes de todas as variaveis sao estatisticamente significantes ao nivel de 10% e estao de acordo com o sinal esperado: todas as variaveis explicativas tem impacto positivo sobre o faturamento. Uma variacao no indice de utilizacao da capacidade produtiva acarreta uma variacao mais do que proporcional no indice de faturamento. O mesmo ocorre com a produtividade. Ja o custo acarreta uma variacao positiva no faturamento, mas inferior a 1: parte dos custos e repassada aos precos."
   ]
  }
 ],
 "metadata": {
  "kernelspec": {
   "display_name": "Python 3",
   "language": "python",
   "name": "python3"
  },
  "language_info": {
   "codemirror_mode": {
    "name": "ipython",
    "version": 3
   },
   "file_extension": ".py",
   "mimetype": "text/x-python",
   "name": "python",
   "nbconvert_exporter": "python",
   "pygments_lexer": "ipython3",
   "version": "3.6.5"
  }
 },
 "nbformat": 4,
 "nbformat_minor": 2
}
