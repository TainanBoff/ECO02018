{
 "cells": [
  {
   "cell_type": "markdown",
   "metadata": {},
   "source": [
    "## Introdução\n",
    "\n",
    "O método científico nas ciências empíricas é tradicionalmente composto pelas seguintes etapas:\n",
    "1. observação;\n",
    "2. formulação de um problema;\n",
    "3. formulação de hipótese (modelo teórico da causalidade das variáveis relevantes);\n",
    "4. análise de dados\n",
    "    1. definição de requisitos dos dados;\n",
    "    2. coleta dos dados;\n",
    "    3. organização do dados (bancos de dados);\n",
    "    4. limpeza dos dados;\n",
    "    5. exploração dos dados;\n",
    "    6. mineração de dados (hipóteses alternativas), e\n",
    "    7. modelagem dos dados (formulação do modelo empírico);\n",
    "5. teste de hipóteses (compatibilidade entre modelo teórico e empírico);\n",
    "6. análise \n",
    "7. Observação...\n",
    "\n",
    "As hipóteses podem ser aceitas (corroboradas) ou rejeitadas.  Em ambos os casos, elas se mostram uma observação, reiniciando o método e tornando o trabalho científico um processo de repetição (loop). Estes fatos tornam possível algoritimizar o método científico o que nos leva ao conceito de eScience.\n",
    "\n",
    "Ocorre que a repetição do trabalho científico tem de ser passível de ser realizada por quaisquer outros cientistas, que é o que se chama de pesquisa reproduzível.\n",
    "\n",
    "Para saber mais sobre o assunto, confira:\n",
    "\n",
    "\n",
    "1. [habilidades essenciais em pesquisa reprodutível](https://barbagroup.github.io/essential_skills_RRC/).\n",
    "2. [Curso rápido de pesquisa reproduzível](http://t-redactyl.io/blog/2016/10/a-crash-course-in-reproducible-research-in-python.html)\n",
    "\n",
    "\n",
    "Aqui vale a pena assistirmos a:\n",
    "\n",
    "## [61o. Reunião Anual da RBras: biometria e bioestatística na era do big data](http://cursos.leg.ufpr.br/prr/slidesPesqRep.html)\n",
    "\n"
   ]
  }
 ],
 "metadata": {
  "anaconda-cloud": {},
  "kernelspec": {
   "display_name": "Python 3",
   "language": "python",
   "name": "python3"
  },
  "language_info": {
   "codemirror_mode": {
    "name": "ipython",
    "version": 3
   },
   "file_extension": ".py",
   "mimetype": "text/x-python",
   "name": "python",
   "nbconvert_exporter": "python",
   "pygments_lexer": "ipython3",
   "version": "3.6.5"
  }
 },
 "nbformat": 4,
 "nbformat_minor": 2
}
