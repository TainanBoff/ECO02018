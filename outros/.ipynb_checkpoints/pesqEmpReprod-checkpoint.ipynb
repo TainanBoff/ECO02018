{
 "cells": [
  {
   "cell_type": "markdown",
   "metadata": {},
   "source": [
    "# Desenho de experimentos e quase experimentos\n",
    "\n",
    "\n",
    "## Introdução\n",
    "\n",
    "As ciências empíricas possuem basicamente dois tipos de instrumentos para possibilitar a avaliação das explicações dadas aos fenômenos observados: estudos experimentais e estudos observacionais.\n",
    "\n",
    "Experimentos caracterizam pelo fato de buscar a relação de causalidade entre variáveis envolvidas no estudo, tendo para isso basicamente o instrumento de \"randomized trials\" ao passo que os estudos observacionais procuram apenas avaliar se as explicações teóricas ao menos são compatíveis com as correlações observadas nos dados.\n",
    "\n",
    "Por isso, o desenho da pesquisa vai determinar quais conclusões podem ser extraídas dos dados bem como estabelecer a melhor forma de armazenar os dados coletados para realização dos estudos.\n",
    "\n",
    "Aqui trataremos basicamente do processo de desenho do banco de dados da pesquisa, remetendo às referências do Moodle o entendimento dos aspectos metodológicos.\n",
    "\n",
    "\n",
    "##  Bancos de dados\n",
    "\n",
    "### Introdução\n",
    "Um objeto do mundo concreto se descreve por suas características. Por exemplo, uma pessoa tem como características seu nome, sua altura, seu peso, sua idade, seu estado civil, a cor da sua pela, seu sexo etc.  Chama-se dado ao valores observados de uma determinada característica em um determinado objeto do mundo concreto.\n",
    "\n",
    "Os dados são armazenados em computadores de diferentes formas a dependerem do tipo de operação que se pode fazer com ele.  Por exemplo, efetuando-se a operação de concatenar as letras A, L, B, E, R, T e O, obtém-se o nome ALBERTO, mas não faz sentido, por exemplo, querer somar tais letras.  A cada forma de armazenamento de um dado chama-se tipo de dado simples.\n",
    "\n",
    "Compondo-se tipos de dados simples obtém-se as chamadas estruturas de dados.  Por exemplo, podemos compor diversos elementos do tipo de dado número real para obter uma estrutura de dados chamada vetor.\n",
    "\n",
    "Também podemos juntar diversos elementos com tipo de dado caracter formando uma lista de caracteres.  Genericamente, se juntarmos elementos de tipos de dados possivelmente diferentes, obteremos uma estrutura de dados denominada registro. Chamaremos de banco de dados a uma lista de registros.\n",
    "\n",
    "A fim de que os bancos de dados sejam úteis é necessário que eles disponham de uma organização conhecida pelos seus operadores. Isto significa que é preciso que haja uma definição prévia dos tipos de dados que serão armazenados, das formas de atualização (isto é, inserção, deleção ou modificação dos dados presentes no banco), das possibilidades de consulta ao dados.  Ou seja, bancos de dados precisam ser projetados para que tenham utilidade.  E isto é mais verdade quanto maior for a quantidade e variedade de dados armazenados.\n",
    "\n",
    "Existem diversas formas de projetar a organização dos registros dentro de um banco de dados, sendo as seguintes asmais usadas:bancos hierárquicos; bancos relacionais; bancos objeto-relacionais.  Aqui nos ateremos aos bancos relacionais.\n",
    "\n",
    "Com efeito, bancos relacionais são aqueles em que os registros estão organizados em tabelas às quais correspondem a relações matemáticas entre eles e registros em outras tabelas.\n",
    "\n",
    "Cada tabela é caracterizada por representar entidades e a navegação dentro do banco é feita por meio de uma série de relações previamente estabelecidas na construção do banco.\n",
    "\n",
    "### Operações em bancos de dados\n",
    "\n",
    "As seguintes operações podem ser feitas com dados:\n",
    "\n",
    "1. Definição dos tipos de dados;\n",
    "\n",
    "2. Manipulação dos dados: inserção, atualização e deleção de dados\n",
    "\n",
    "3. Busca de dados.\n",
    "\n",
    "Estas operações podem ser feitas diretamente pelo terminal do sistema operacional, por meio de linguagens de programação ou pelo uso de sistemas gerenciadores de bancos de dados (SGBD).\n",
    "\n",
    "Os SGBD's disponibilizam uma linguagem para efetuar as operações sobre os dados.  No caso do SGBD's relacionais, a linguagem mais utilizada é chamada de SQL (Structured Query Language).\n",
    "\n",
    "### SGBD\n",
    "\n",
    "Os SGBD mais usados são o Oracle, MS-SQL ServeR, PostgreSQL MySQL e Sqlite, sendo este um sistema que se constitui em uma biblioteca de uma linguagem de programação, não sendo necessário instalar nada no computador além da própria linguagem desejada e da correspondente biblioteca.\n",
    "\n",
    "Python disponibilita o pacote sqlite3.  Na próxima seção, estudaremos a linguagem sql tal como implementada no sqlite3.\n",
    "\n",
    "## O sqlite3\n",
    "\n",
    "O SQLite organiza os dados em conjuntos de tabelas que representam as relações entre os dados e fornece uma linguagem (SQL) para trabalhar com os dados armazenados.  Esta linguagem é dividida nas seguintes partes:\n",
    "\n",
    "1. DDL (data definition language);\n",
    "2. DML (data manipulation language);\n",
    "3. DCL (data control language);\n",
    "4. DTL (data transactions language), e\n",
    "5. DQL (data query language).\n",
    "\n",
    "\n",
    "\n",
    "\n",
    "### Instalando o SQLite3\n",
    "\n",
    "Basta fazer download em [SQLite download](https://www.sqlite.org/download.html) e instalar o programa de acordo com as normativas do seu sistema operacional.  No caso do LINUX, o SQLite já vem instalado por padrão em grande parte das distribuições.\n",
    "\n",
    "### Entrando no SQLite3\n",
    "\n",
    "Basta digitar no terminal LINUX o comando:\n",
    "```sql\n",
    "sqlite3\n",
    "```\n",
    "\n",
    "Uma vez dentro do SQLite tem-se basicamente um interpretador de comandos na linguagem SQL que permitirá organizar nossos dados em bancos de dados relacionais.\n",
    "\n",
    "## Aprendendo do SQL do SQLite3 \n",
    "\n",
    "O SGBD que estamos utilizado é o SQLite.  Por isso aprenderemos um pouco da sintaxe do SQL no dialeto do SQLite.  Lembre-se de que SGBD's diferentes \"falam\" dialetos diferentes de SQL, mas todos costumam ser parecidos e fácil de entender para quem conhece pelo menos um dialeto SQL.  \n",
    "\n",
    "\n",
    "\n",
    "### A DDL do SQLite3\n",
    "#### Criando um banco de dados no SQLite3\n",
    "\n",
    "Para criar um banco de dados chamado agenda no SQLIte basta digitar o comando:\n",
    "\n",
    "```sql\n",
    ".open agenda.db\n",
    "\n",
    "```\n",
    "O comando \"open\" abrirá o banco de dados caso ele exista ou o criará em caso contrário.\n",
    "\n",
    "#### Criando uma tabela\n",
    "\n",
    "Utilize o comando a seguir:\n",
    "\n",
    "```sql\n",
    "create table agenda(nome text, telefone text)\n",
    "\n",
    "```\n",
    "\n",
    "#### Apagando uma tabela\n",
    "Utilize o comando a seguir:\n",
    "\n",
    "```sql\n",
    "drop table\n",
    "\n",
    "```\n",
    "\n",
    "#### Alterando a estrutura de uma tabela\n",
    "Utilize o comando a seguir:\n",
    "\n",
    "```sql\n",
    "alter table\n",
    "\n",
    "```\n",
    "### A DML do SQLite3\n",
    "\n",
    "#### Inserindo um registro em uma tabela\n",
    "Utilize o comando a seguir:\n",
    "\n",
    "```sql\n",
    "insert into \n",
    "\n",
    "```\n",
    "\n",
    "#### Apagando um registro em uma tabela\n",
    "Utilize o comando a seguir:\n",
    "\n",
    "```sql\n",
    "delete\n",
    "\n",
    "```\n",
    "#### Atualizando um registro em uma tabela\n",
    "Utilize o comando a seguir:\n",
    "\n",
    "```sql\n",
    "update\n",
    "\n",
    "```\n",
    "\n",
    "\n",
    "\n",
    "### A DQL do SQLite3\n",
    "\n",
    "Utilize o comando a seguir:\n",
    "\n",
    "\n",
    "```sql\n",
    "\n",
    "select * from agenda\n",
    "```\n",
    "\n",
    "Para saber mais, veja  o tutorial disponível em [Tutorial de SQLite3 do PythonClub](http://pythonclub.com.br/guia-rapido-comandos-sqlite3.html).\n",
    "\n",
    "Vamos seguir a partir de agora o tutorial padrão do módulo Python SQLite3 para controlar a partir do interpretador Python um banco de dados SQLite3. Para tal vamos seguir Vamos lá!"
   ]
  },
  {
   "cell_type": "markdown",
   "metadata": {},
   "source": [
    "### Criando um banco de dados\n",
    "\n"
   ]
  },
  {
   "cell_type": "code",
   "execution_count": 1,
   "metadata": {
    "collapsed": true
   },
   "outputs": [],
   "source": [
    "import sqlite3\n",
    "conn = sqlite3.connect('exemplo.db')"
   ]
  },
  {
   "cell_type": "markdown",
   "metadata": {},
   "source": [
    "O código acima estabelece uma conexão entre o Python e o banco de dados \"exemplo.db\" se o banco existe ou o cria se o banco não existe."
   ]
  },
  {
   "cell_type": "markdown",
   "metadata": {},
   "source": [
    "### Criando um cursor para comandar o banco por linha de comando."
   ]
  },
  {
   "cell_type": "code",
   "execution_count": 2,
   "metadata": {
    "collapsed": true
   },
   "outputs": [],
   "source": [
    "# Criação do cursor\n",
    "\n",
    "c = conn.cursor()\n"
   ]
  },
  {
   "cell_type": "markdown",
   "metadata": {},
   "source": [
    "Um cursor funciona como um cursor no shell do linux, permitindo que se escreva comandos.\n",
    "\n",
    "### Executando alguns comandos no banco de dados criado"
   ]
  },
  {
   "cell_type": "code",
   "execution_count": 4,
   "metadata": {},
   "outputs": [
    {
     "ename": "ProgrammingError",
     "evalue": "Cannot operate on a closed database.",
     "output_type": "error",
     "traceback": [
      "\u001b[0;31m---------------------------------------------------------------------------\u001b[0m",
      "\u001b[0;31mProgrammingError\u001b[0m                          Traceback (most recent call last)",
      "\u001b[0;32m<ipython-input-4-98e7807e02fe>\u001b[0m in \u001b[0;36m<module>\u001b[0;34m()\u001b[0m\n\u001b[1;32m      1\u001b[0m \u001b[0;31m# Criando uma tabela\u001b[0m\u001b[0;34m\u001b[0m\u001b[0;34m\u001b[0m\u001b[0m\n\u001b[0;32m----> 2\u001b[0;31m \u001b[0mc\u001b[0m\u001b[0;34m.\u001b[0m\u001b[0mexecute\u001b[0m\u001b[0;34m(\u001b[0m\u001b[0;34m'CREATE TABLE stocks(date text, trans text, symbol text, qty real, price real)'\u001b[0m\u001b[0;34m)\u001b[0m\u001b[0;34m\u001b[0m\u001b[0m\n\u001b[0m\u001b[1;32m      3\u001b[0m \u001b[0;34m\u001b[0m\u001b[0m\n\u001b[1;32m      4\u001b[0m \u001b[0;31m# Inserindo uma linha (registro) na tabela criada\u001b[0m\u001b[0;34m\u001b[0m\u001b[0;34m\u001b[0m\u001b[0m\n\u001b[1;32m      5\u001b[0m \u001b[0mc\u001b[0m\u001b[0;34m.\u001b[0m\u001b[0mexecute\u001b[0m\u001b[0;34m(\u001b[0m\u001b[0;34m\"INSERT INTO stocks VALUES ('2006-01-05','BUY','RHAT',100,35.14)\"\u001b[0m\u001b[0;34m)\u001b[0m\u001b[0;34m\u001b[0m\u001b[0m\n",
      "\u001b[0;31mProgrammingError\u001b[0m: Cannot operate on a closed database."
     ]
    }
   ],
   "source": [
    "# Criando uma tabela\n",
    "c.execute('CREATE TABLE stocks(date text, trans text, symbol text, qty real, price real)')\n",
    "\n",
    "# Inserindo uma linha (registro) na tabela criada\n",
    "c.execute(\"INSERT INTO stocks VALUES ('2006-01-05','BUY','RHAT',100,35.14)\")\n",
    "\n",
    "# Salvando (\"commitando\") os dados inseridos no banco de dados\n",
    "conn.commit()\n",
    "\n",
    "# Fechando a conexão com o banco de dados.\n",
    "conn.close()"
   ]
  }
 ],
 "metadata": {
  "anaconda-cloud": {},
  "kernelspec": {
   "display_name": "Python 3",
   "language": "python",
   "name": "python3"
  },
  "language_info": {
   "codemirror_mode": {
    "name": "ipython",
    "version": 3
   },
   "file_extension": ".py",
   "mimetype": "text/x-python",
   "name": "python",
   "nbconvert_exporter": "python",
   "pygments_lexer": "ipython3",
   "version": "3.6.5"
  }
 },
 "nbformat": 4,
 "nbformat_minor": 2
}
