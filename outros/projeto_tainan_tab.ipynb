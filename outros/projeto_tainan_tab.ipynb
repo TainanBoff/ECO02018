{
 "cells": [
  {
   "cell_type": "markdown",
   "metadata": {},
   "source": [
    "**UNIVERSIDADE FEDERAL DO RIO GRANDE DO SUL  \n",
    "FACULDADE DE CIENCIAS ECONOMICAS  \n",
    "DEPARTAMENTO DE ECONOMIA E RELACOES INTERNACIONAIS  \n",
    "DISCIPLINA: ECO02018 - TOPICOS ESPECIAIS EM ECONOMETRIA  \n",
    "ALUNA: TAINAN DE BACCO FREITAS BOFF**  "
   ]
  },
  {
   "cell_type": "markdown",
   "metadata": {},
   "source": [
    "# A efetividade das politicas publicas para controle do tabagismo"
   ]
  },
  {
   "cell_type": "markdown",
   "metadata": {},
   "source": [
    "Utilizando dados da OMS para 88 paises, esse estudo verifica a efetividade de duas politicas publicas para o controle do tabagismo. A primeira delas e a tributacao sobre cigarros e a segunda sao leis que estabelecem a area minima da carteira de cigarros que devera conter avisos sobre os maleficios do tabagismo a saude. Todos os dados foram coletados entre 2013 e 2014."
   ]
  },
  {
   "cell_type": "code",
   "execution_count": 125,
   "metadata": {},
   "outputs": [],
   "source": [
    "# Importacao de pacotes\n",
    "import pandas as pd\n",
    "import matplotlib.pyplot as plt"
   ]
  },
  {
   "cell_type": "code",
   "execution_count": null,
   "metadata": {},
   "outputs": [],
   "source": [
    "# Inicializacao de variaveis"
   ]
  },
  {
   "cell_type": "code",
   "execution_count": 177,
   "metadata": {},
   "outputs": [],
   "source": [
    "## Entrada de dados\n",
    "\n",
    "# Consumo diario de cigarros padronizado pela idade (possibilita comparacao entre paises e ao longo do tempo)\n",
    "fumantes = pd.read_csv(\"http://apps.who.int/gho/athena/api/GHO/M_Est_cig_daily.csv?filter=SEX:BTSX\", usecols = ['COUNTRY', 'Display Value'], na_values = 'Not available')\n",
    "fumantes.columns = ['pais', 'fumantes']\n",
    "\n",
    "# Porcentagem de impostos no preco do cigarro\n",
    "impostos = pd.read_csv(\"http://apps.who.int/gho/athena/api/GHO/R_total_tax_average.csv?filter=YEAR:2014\", usecols = ['COUNTRY','Display Value'], na_values = 'Not available')\n",
    "impostos.columns = ['pais', 'impostos']\n",
    "\n",
    "# Area (%) de um pacote de cigarros que deve conter avisos de saude\n",
    "avisos = pd.read_csv(\"http://apps.who.int/gho/athena/api/GHO/W2_pc_front_back_A.csv?filter=YEAR:2014\", usecols = ['COUNTRY', 'Display Value'], na_values = 'Not specified')\n",
    "avisos = avisos.replace(to_replace = \"Not applicable\", value = '0')\n",
    "avisos.columns = ['pais', 'avisos']"
   ]
  },
  {
   "cell_type": "code",
   "execution_count": 178,
   "metadata": {},
   "outputs": [
    {
     "name": "stdout",
     "output_type": "stream",
     "text": [
      "A amostra contem 88 paises.\n"
     ]
    },
    {
     "data": {
      "text/html": [
       "<div>\n",
       "<style scoped>\n",
       "    .dataframe tbody tr th:only-of-type {\n",
       "        vertical-align: middle;\n",
       "    }\n",
       "\n",
       "    .dataframe tbody tr th {\n",
       "        vertical-align: top;\n",
       "    }\n",
       "\n",
       "    .dataframe thead th {\n",
       "        text-align: right;\n",
       "    }\n",
       "</style>\n",
       "<table border=\"1\" class=\"dataframe\">\n",
       "  <thead>\n",
       "    <tr style=\"text-align: right;\">\n",
       "      <th></th>\n",
       "      <th>pais</th>\n",
       "      <th>fumantes</th>\n",
       "      <th>impostos</th>\n",
       "      <th>avisos</th>\n",
       "    </tr>\n",
       "  </thead>\n",
       "  <tbody>\n",
       "    <tr>\n",
       "      <th>0</th>\n",
       "      <td>GHA</td>\n",
       "      <td>3.9</td>\n",
       "      <td>28.3</td>\n",
       "      <td>50.0</td>\n",
       "    </tr>\n",
       "    <tr>\n",
       "      <th>4</th>\n",
       "      <td>USA</td>\n",
       "      <td>14.3</td>\n",
       "      <td>42.9</td>\n",
       "      <td>50.0</td>\n",
       "    </tr>\n",
       "    <tr>\n",
       "      <th>5</th>\n",
       "      <td>LUX</td>\n",
       "      <td>15.8</td>\n",
       "      <td>70.7</td>\n",
       "      <td>39.0</td>\n",
       "    </tr>\n",
       "    <tr>\n",
       "      <th>6</th>\n",
       "      <td>NPL</td>\n",
       "      <td>16.9</td>\n",
       "      <td>46.6</td>\n",
       "      <td>90.0</td>\n",
       "    </tr>\n",
       "    <tr>\n",
       "      <th>7</th>\n",
       "      <td>MDA</td>\n",
       "      <td>17.9</td>\n",
       "      <td>51.6</td>\n",
       "      <td>35.0</td>\n",
       "    </tr>\n",
       "  </tbody>\n",
       "</table>\n",
       "</div>"
      ],
      "text/plain": [
       "  pais  fumantes  impostos  avisos\n",
       "0  GHA       3.9      28.3    50.0\n",
       "4  USA      14.3      42.9    50.0\n",
       "5  LUX      15.8      70.7    39.0\n",
       "6  NPL      16.9      46.6    90.0\n",
       "7  MDA      17.9      51.6    35.0"
      ]
     },
     "execution_count": 178,
     "metadata": {},
     "output_type": "execute_result"
    }
   ],
   "source": [
    "# Unifica a base de dados\n",
    "dados_parcial = pd.merge(fumantes, impostos, on = 'pais')\n",
    "dados = pd.merge(dados_parcial, avisos, on = 'pais')\n",
    "\n",
    "# Exclui linhas com NaN\n",
    "dados = dados.dropna()\n",
    "\n",
    "# Verifica numero de observacoes (paises) na amostra\n",
    "print('A amostra contem',dados.shape[0],'paises.')\n",
    "\n",
    "# Converte os dados das colunas 1, 2 e 3 para float\n",
    "dados[['fumantes','impostos','avisos']] = dados[['fumantes','impostos','avisos']].apply(pd.to_numeric)\n",
    "\n",
    "# Imprime 5 primeiras observacoes\n",
    "dados.head()"
   ]
  },
  {
   "cell_type": "markdown",
   "metadata": {},
   "source": [
    "## Analise exploratoria dos dados"
   ]
  },
  {
   "cell_type": "code",
   "execution_count": 179,
   "metadata": {},
   "outputs": [
    {
     "data": {
      "text/html": [
       "<div>\n",
       "<style scoped>\n",
       "    .dataframe tbody tr th:only-of-type {\n",
       "        vertical-align: middle;\n",
       "    }\n",
       "\n",
       "    .dataframe tbody tr th {\n",
       "        vertical-align: top;\n",
       "    }\n",
       "\n",
       "    .dataframe thead th {\n",
       "        text-align: right;\n",
       "    }\n",
       "</style>\n",
       "<table border=\"1\" class=\"dataframe\">\n",
       "  <thead>\n",
       "    <tr style=\"text-align: right;\">\n",
       "      <th></th>\n",
       "      <th>fumantes</th>\n",
       "      <th>impostos</th>\n",
       "      <th>avisos</th>\n",
       "    </tr>\n",
       "  </thead>\n",
       "  <tbody>\n",
       "    <tr>\n",
       "      <th>count</th>\n",
       "      <td>88.000000</td>\n",
       "      <td>88.000000</td>\n",
       "      <td>88.000000</td>\n",
       "    </tr>\n",
       "    <tr>\n",
       "      <th>mean</th>\n",
       "      <td>16.089773</td>\n",
       "      <td>59.520455</td>\n",
       "      <td>42.164773</td>\n",
       "    </tr>\n",
       "    <tr>\n",
       "      <th>std</th>\n",
       "      <td>7.100478</td>\n",
       "      <td>19.899230</td>\n",
       "      <td>16.255807</td>\n",
       "    </tr>\n",
       "    <tr>\n",
       "      <th>min</th>\n",
       "      <td>2.900000</td>\n",
       "      <td>4.300000</td>\n",
       "      <td>0.000000</td>\n",
       "    </tr>\n",
       "    <tr>\n",
       "      <th>25%</th>\n",
       "      <td>11.375000</td>\n",
       "      <td>47.275000</td>\n",
       "      <td>35.000000</td>\n",
       "    </tr>\n",
       "    <tr>\n",
       "      <th>50%</th>\n",
       "      <td>16.100000</td>\n",
       "      <td>63.600000</td>\n",
       "      <td>39.000000</td>\n",
       "    </tr>\n",
       "    <tr>\n",
       "      <th>75%</th>\n",
       "      <td>21.175000</td>\n",
       "      <td>76.175000</td>\n",
       "      <td>50.000000</td>\n",
       "    </tr>\n",
       "    <tr>\n",
       "      <th>max</th>\n",
       "      <td>31.100000</td>\n",
       "      <td>86.000000</td>\n",
       "      <td>90.000000</td>\n",
       "    </tr>\n",
       "  </tbody>\n",
       "</table>\n",
       "</div>"
      ],
      "text/plain": [
       "        fumantes   impostos     avisos\n",
       "count  88.000000  88.000000  88.000000\n",
       "mean   16.089773  59.520455  42.164773\n",
       "std     7.100478  19.899230  16.255807\n",
       "min     2.900000   4.300000   0.000000\n",
       "25%    11.375000  47.275000  35.000000\n",
       "50%    16.100000  63.600000  39.000000\n",
       "75%    21.175000  76.175000  50.000000\n",
       "max    31.100000  86.000000  90.000000"
      ]
     },
     "execution_count": 179,
     "metadata": {},
     "output_type": "execute_result"
    }
   ],
   "source": [
    "# Estatisticas descritivas\n",
    "dados.describe()"
   ]
  },
  {
   "cell_type": "code",
   "execution_count": 159,
   "metadata": {},
   "outputs": [
    {
     "data": {
      "image/png": "[encoded data removed]",
      "text/plain": [
       "<Figure size 432x288 with 1 Axes>"
      ]
     },
     "metadata": {},
     "output_type": "display_data"
    }
   ],
   "source": [
    "plt_fumantes = plt.scatter(dados.pais, dados.fumantes)\n",
    "plt.show()"
   ]
  },
  {
   "cell_type": "code",
   "execution_count": 157,
   "metadata": {},
   "outputs": [
    {
     "data": {
      "image/png": "[encoded data removed]",
      "text/plain": [
       "<Figure size 432x288 with 1 Axes>"
      ]
     },
     "metadata": {},
     "output_type": "display_data"
    }
   ],
   "source": [
    "plt_impostos = plt.scatter(dados.pais, dados.impostos)\n",
    "plt.show()"
   ]
  },
  {
   "cell_type": "code",
   "execution_count": 156,
   "metadata": {},
   "outputs": [
    {
     "data": {
      "image/png": "[encoded data removed]",
      "text/plain": [
       "<Figure size 432x288 with 1 Axes>"
      ]
     },
     "metadata": {},
     "output_type": "display_data"
    }
   ],
   "source": [
    "plt_avisos = plt.scatter(dados.pais, dados.avisos)\n",
    "plt.show()"
   ]
  },
  {
   "cell_type": "code",
   "execution_count": 161,
   "metadata": {},
   "outputs": [
    {
     "data": {
      "image/png": "[encoded data removed]",
      "text/plain": [
       "<Figure size 432x288 with 1 Axes>"
      ]
     },
     "metadata": {},
     "output_type": "display_data"
    }
   ],
   "source": [
    "plt_impostos_fumantes = plt.scatter(dados.impostos, dados.fumantes)\n",
    "plt.show()"
   ]
  },
  {
   "cell_type": "code",
   "execution_count": 162,
   "metadata": {},
   "outputs": [
    {
     "data": {
      "image/png": "[encoded data removed]",
      "text/plain": [
       "<Figure size 432x288 with 1 Axes>"
      ]
     },
     "metadata": {},
     "output_type": "display_data"
    }
   ],
   "source": [
    "plt_avisos_fumantes = plt.scatter(dados.avisos, dados.fumantes)\n",
    "plt.show()"
   ]
  },
  {
   "cell_type": "code",
   "execution_count": null,
   "metadata": {},
   "outputs": [],
   "source": []
  },
  {
   "cell_type": "code",
   "execution_count": null,
   "metadata": {},
   "outputs": [],
   "source": [
    "# Processamento dos dados"
   ]
  },
  {
   "cell_type": "code",
   "execution_count": null,
   "metadata": {},
   "outputs": [],
   "source": [
    "# Saida dos dados"
   ]
  }
 ],
 "metadata": {
  "kernelspec": {
   "display_name": "Python 3",
   "language": "python",
   "name": "python3"
  },
  "language_info": {
   "codemirror_mode": {
    "name": "ipython",
    "version": 3
   },
   "file_extension": ".py",
   "mimetype": "text/x-python",
   "name": "python",
   "nbconvert_exporter": "python",
   "pygments_lexer": "ipython3",
   "version": "3.6.5"
  }
 },
 "nbformat": 4,
 "nbformat_minor": 2
}
