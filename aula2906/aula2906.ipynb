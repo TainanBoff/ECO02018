{
 "cells": [
  {
   "cell_type": "markdown",
   "metadata": {},
   "source": [
    "# Aula de 29/06\n",
    "\n",
    "## Un. 4: Metodologia do e-science\n",
    "\n",
    "### 1.2 Desenho de experimentos: Python SQLite3"
   ]
  },
  {
   "cell_type": "markdown",
   "metadata": {},
   "source": [
    "Estudo empirico: observacional (quase-experimental, etc.) vs. experimental (randomized trials)."
   ]
  },
  {
   "cell_type": "markdown",
   "metadata": {},
   "source": [
    "SGDB - da instrumentos para:\n",
    "* Projetar o BD\n",
    "* Organizar os dados\n",
    "\n",
    "Funciona como se fosse o interpetador de uma linguagem.\n",
    "Linguagem mais utilizada: Structured Query Language (SQL)\n",
    "Cada SGDB tem um \"dialeto\" do SQL\n",
    "\n",
    "Escrever \n",
    "\n",
    "#### SQLite3\n",
    "* Biblioteca escrita em C\n",
    "* Precisa instalar, mas nao fica usando a memoria em segundo plano.\n",
    "* Os dados ficam salvo em arquivos com extensao .db\n",
    "* Vantagem: mover para outras maquinas\n",
    "* Escreve-se um progama .sql com instrucoes para criar e organizar o banco de dados.\n",
    "\n",
    "Ex: .open dados.db # Cria o arquivo do banco de dados\n",
    "\n",
    "#### MS-SQL Server\n",
    "#### PostGresql\n",
    "* Precisa instalar na maquina\n",
    "* Opera em segundo plano\n",
    "* Funciona como um servidor\n",
    "* Nao salva os dados em um arquivo"
   ]
  },
  {
   "cell_type": "markdown",
   "metadata": {},
   "source": [
    "Tipos de dados: integer, float, etc\n",
    "Tipo composto (estrutura): vetor, registro, etc.\n",
    "Registro funciona como um vetor que tem tipos de dados simples diferentes (string, integer, etc).\n",
    "Uma tabela e uma lista de registros. Ex: [Ano, preco_acao1, preco_acao2][1970, 3.1, 4.7][1971, 3.2, 4.7]\n",
    "Nao existe lista em C - utilizam-se ponteiros - aponta para o endereco de memoria\n",
    "Em Python existem listas.\n",
    "Um banco de dados relacional e uma lista de tabelas.\n",
    "\n",
    "Registro\n",
    "Tabela: lista de registros\n",
    "Banco de dados relacional: lista de tabelas\n",
    "\n",
    "Essa estrutura (tabelas) prosperou por suas propriedades matematicas.\n",
    "\n",
    "Relacao: Dados um conjunto A, diz-se que R e uma relacao em A se R C AxA\n",
    "Ex.: A = {1, 2, 3}\n",
    "AxA = {(1,1), (1,2), ..., (3,3)}\n",
    "\n",
    "A = {\"Nelson\",\"carro\"}\n",
    "B = {\"RJ\",115}\n",
    "AxB = {(\"Nelson\", \"RJ\"), (\"Nelson\", 115)}\n",
    "\n",
    "Uma tabela e uma representacao grafica de uma relacao.\n",
    "Excel nao e um bom SGDB, mas e um banco de dados relacional. Access p/ usuario domestico.\n",
    "\n",
    "SQL linguagem usada para PRODUZIR os db, precisa ser interpretado em algum SGDB - vamos usar o SQLite3. Cada SGDB tem o seu SQL, mas os codigos sao muito parecidos."
   ]
  },
  {
   "cell_type": "markdown",
   "metadata": {},
   "source": [
    "Baixar dados: API e webscrapping.\n",
    "Paginas: html, CSS, JavaScript\n",
    "Webscrapper - bibliotecas request e (...)\n",
    "Armazenar em banco de dados SQL"
   ]
  },
  {
   "cell_type": "markdown",
   "metadata": {},
   "source": [
    "sqlite3\n",
    "nano dados.sql\n",
    ".open dados.db # comando que iniciam com ponto - sintaxe do sqlite (interpretador)\n",
    "comandos sql precisam terminar com ;\n",
    "create table agenda (nome text, telefone text);\n",
    ".schema"
   ]
  },
  {
   "cell_type": "markdown",
   "metadata": {},
   "source": [
    "VER LISTA DE LEITURA (PYTHONCLUB GUIA RAPIDO COMANDOS QLITE3)\n",
    "Usa sintaxe de postgresql, mas funciona no sqlite3\n",
    "obs: nao tem boolean, mas transforma em integer\n"
   ]
  }
 ],
 "metadata": {
  "kernelspec": {
   "display_name": "Python 3",
   "language": "python",
   "name": "python3"
  },
  "language_info": {
   "codemirror_mode": {
    "name": "ipython",
    "version": 3
   },
   "file_extension": ".py",
   "mimetype": "text/x-python",
   "name": "python",
   "nbconvert_exporter": "python",
   "pygments_lexer": "ipython3",
   "version": "3.6.5"
  }
 },
 "nbformat": 4,
 "nbformat_minor": 2
}
