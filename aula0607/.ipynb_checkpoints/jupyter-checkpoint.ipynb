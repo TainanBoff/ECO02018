{
 "cells": [
  {
   "cell_type": "markdown",
   "metadata": {},
   "source": [
    "\n",
    "# Jupyter Notebook e Programação Literária\n",
    "\n",
    "O Jupyter Notebook é um ambiente de desenvolvimento integrado voltado para a computação científica que facilita o trabalho de experimentação, escrita de código e de relatório de pesquisa de forma integrada.\n",
    "\n",
    "Programação literária é um paradigma de programação onde o código fonte do programa e sua documentação são escritos simultaneamente em um mesmo arquivo que será compilado \n",
    "\n",
    "Veja o tutorial de uso do [Jupyter Notebook](https://try.jupyter.org/).\n",
    "\n",
    "Confira sobre programação literária os seguintes:\n",
    "\n",
    "[Artigo programação literária da Wikipedia](https://en.wikipedia.org/wiki/Literate_programming)\n",
    "\n",
    "[Literate Programming](http://www.literateprogramming.com/) - fonte de diversos artigos explicando o assunto.\n",
    "\n"
   ]
  }
 ],
 "metadata": {
  "anaconda-cloud": {},
  "kernelspec": {
   "display_name": "Python 3",
   "language": "python",
   "name": "python3"
  },
  "language_info": {
   "codemirror_mode": {
    "name": "ipython",
    "version": 3
   },
   "file_extension": ".py",
   "mimetype": "text/x-python",
   "name": "python",
   "nbconvert_exporter": "python",
   "pygments_lexer": "ipython3",
   "version": "3.6.5"
  }
 },
 "nbformat": 4,
 "nbformat_minor": 2
}
