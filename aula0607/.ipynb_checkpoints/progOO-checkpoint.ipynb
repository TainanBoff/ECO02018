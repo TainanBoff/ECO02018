{
 "cells": [
  {
   "cell_type": "markdown",
   "metadata": {
    "slideshow": {
     "slide_type": "slide"
    }
   },
   "source": [
    "# Programação orientada a objeto\n",
    "\n",
    "## Introdução\n",
    "\n",
    "Um objeto do mundo concreto se descreve por suas características e pelas coisas de que é capaz de fazer. Por exemplo, as pessoas tem como características seu nome, sua altura, seu peso, sua idade, seu estado civil, a cor da sua pela, seu sexo etc.  Além das características, as pessoas revelam pela ações que são capazes de praticar como, por exemplo, pensar, falar, andar, correr etc.  Assim, uma forma de ver os objetos do mundo concreto é entendê-los como um conjunto de características (atributos ou dados) que trazem consigo embutidos as operações (que neste caso chamaremos métodos) que podem ser realizadas por eles.\n",
    "\n",
    "Tradicionalmente, em um computador, a forma de se armazenar uma característica (dado) de um objeto é definida pelo tipo de operação que se pode fazer com ele.  Por exemplo, pode-se concatenar os caracteres  A, L, B, E, R, T e O, formando a sequência de caracteres do nome ALBERTO, mas não se pode somar tais caracteres.  \n",
    "\n",
    "Alternativamente, em vez de armazenar apenas os dados, uma outra forma de pensar a computação seria modelar completamente a realidade onde ocorrem as operações que se deseja processar.  Assim, em vez de apenas armazenar um dado, o ideal seria armazenar todo o objeto com suas características (atributos) e habilidades de ação (operações ou métodos).\n",
    "\n",
    "Assim, quando se entende a programação como a escrita de uma sequência de operações(funções) sobre os dados sem levar em conta explicitamente que eles provêm de objetos, diz-se que se adotou o paradigma de programação procedural, pois as operações realizadas sobre os dados são vistas como uma sequência de procedimentos .  Quando a forma de escrever os algoritmos é considerá-los como uma sequência de operações sobre os objetos, temos o paradigma de programação orientada a objeto.\n",
    "\n",
    "Em particular, a visão de escrever programas orientados a objetos é especialmente interessante para a modelagem computacional de modelos teórico-matemáticos, porquanto tais modelos são naturalmente populados por objetos. Por isso, o objetivo desta aula é tratar da programação orientada a objeto.\n",
    "\n",
    "Os tópicos a serem tratados são:\n",
    "\n",
    "1. lógica orientada a objetos, e\n",
    "\n",
    "2. orientação e objetos em Python.\n",
    "\n",
    "Então, vamos lá!\n",
    "\n",
    "\n",
    "\n",
    "\n",
    "\n",
    "\n",
    "\n",
    "## Lógica orientada a objetos\n",
    "\n",
    "Como vimos a ideia central da orientação a objetos é construir computacionalmente uma simulação dos objetos do mundo concreto que desejamos processar.  Assim, por exemplo, considere um vetor em $R^{2}$ considerado como costumeiramente na física do ensino médio como um segmento de reta orientado.  Este se descreve como tendo as algumas características básicas (comprimento, direção e sentido) e por poder ser somado a outros vetores ou multiplicado por um número real.  \n",
    "\n",
    "Em termos de matematicamente formais, sabemos que um vetor é um elemento de um conjunto (também chamado de classe em matemática) denominado um espaço vetorial que é definido como sendo um conjunto onde estão definidas as operações adição e multiplicação por escalar entre seus elementos que atendem a algumas propriedades.  Ou seja, a classe $R^{2}$ é caracterizada simultaneamente pelos objetos que a compõem e pelas operações (adição vetorial e multiplicação por escalar) que podem ser realizadas com eles.\n",
    "\n",
    "Além da noção de objeto (dados encapsulados com métodos), dois pontos básicos podem ser ressaltados.  O primeiro é que todos os objetos (vetores) que compõem a classe $R^2$ tem suas características básicas definidas na classe.  O segundo é que qualquer subconjunto de um espaço vetorial que seja ele mesmo um espaço vetorial (isto é, qualquer subespaço vetorial) \"herda\" todas as características (atributos) da classe $R^2$.  Estão postas, pois, as noções de **encapsulamento e herança**.\n",
    "\n",
    "Se olharmos de um modo um pouco mais abstrato, podemos considerar, por exemplo, espaços vetoriais genéricos e a definição de produto interno como sendo um funcional, bilinear, simétrico e positivo.  Ora, o produto interno definido dessa forma permite que diferentes espaços vetoriais tenham diferentes produtos internos.  Esta é a noção de **polimorfismo**.\n",
    "\n",
    "Em suma, temos postas as noções básicas de orientação a objetos que, por clareza, as repetimos a seguir:\n",
    "\n",
    "1. encapsulamento;\n",
    "\n",
    "2. herança, e\n",
    "\n",
    "3. polimorfismo.\n",
    "\n",
    "\n",
    "\n",
    "\n",
    "Esta é basicamente a lógica de modelagem orientada a objetos.  Vejamos como ela se aplica em Python.\n",
    "\n",
    "\n",
    "\n",
    "\n",
    "\n",
    "## Orientação a objetos em Python\n",
    "\n",
    "### Classes e objetos\n",
    "\n",
    "Para criar objetos, precisamos - tal como na matemática formal - primeiro definir o conjunto de que eles fazem parte e as operações que podem ser efetuadas com eles.  Tais conjuntos como vimos são chamados de classes.  Vejamos como definir uma classe em Python.\n",
    "\n",
    "**Exemplo 1: classe televisão (Menezes, 2014, p. 217)**\n",
    "\n",
    "```python\n",
    "class Televisao:\n",
    "    def __init__(self):\n",
    "        self.ligada = False\n",
    "        self.canal = 2\n",
    "```\n",
    "O código acima criou a classe Televisao, mas nenhum objeto.  Para criar os objetos, será preciso realizar instanciá-los chamando a classe Televisão como mostrado a seguir:\n"
   ]
  },
  {
   "cell_type": "code",
   "execution_count": 6,
   "metadata": {},
   "outputs": [],
   "source": [
    "class Televisao:\n",
    "    def __init__(self):\n",
    "        self.ligada = False\n",
    "        self.canal = 2\n",
    "\n",
    "tv_sala = Televisao()\n",
    "\n",
    "tv_quarto = Televisao()"
   ]
  },
  {
   "cell_type": "code",
   "execution_count": 3,
   "metadata": {},
   "outputs": [
    {
     "name": "stdout",
     "output_type": "stream",
     "text": [
      "2\n"
     ]
    }
   ],
   "source": [
    "print(tv_sala.canal)"
   ]
  },
  {
   "cell_type": "code",
   "execution_count": 3,
   "metadata": {},
   "outputs": [
    {
     "name": "stdout",
     "output_type": "stream",
     "text": [
      "2\n"
     ]
    }
   ],
   "source": [
    "print(tv_quarto.canal)"
   ]
  },
  {
   "cell_type": "markdown",
   "metadata": {},
   "source": [
    "Note que a classe foi criada por uma função.  Esta função - que na linguagem de orientação a objetos é chamado de método - é chamada de método construtor.  É a partir dele que se constrói uma classe e, por isso, toda classe começa com seu método construtor.\n",
    "\n",
    "Observe que a sintaxe do método construtor em Python é sempre dada pela função denominada __init__() cuja variável é sempre chamada self.  Este nome é dado para \"lembrar\" que o init é o próprio método que constrói a identidade (self) da classe.\n",
    "\n",
    "Vamos agora adicionar outros métodos na classe Televisao para que seus objetos sejam capazes de trocar de canal."
   ]
  },
  {
   "cell_type": "code",
   "execution_count": 9,
   "metadata": {},
   "outputs": [],
   "source": [
    "class Televisao:\n",
    "    def __init__(self):\n",
    "        self.ligada = True\n",
    "        self.canal = 2\n",
    "    def muda_canal_para_baixo(self):\n",
    "        self.canal-=1\n",
    "    def muda_canal_para_cima(self):\n",
    "        self.canal+=1\n",
    "    def liga_desliga(self):\n",
    "        if self.ligada == True:\n",
    "            self.ligada = False\n",
    "        else:\n",
    "            self.ligada = True\n"
   ]
  },
  {
   "cell_type": "markdown",
   "metadata": {},
   "source": [
    "Vamos ver como usar os novos métodos."
   ]
  },
  {
   "cell_type": "code",
   "execution_count": 15,
   "metadata": {},
   "outputs": [],
   "source": [
    "tv_sala = Televisao()"
   ]
  },
  {
   "cell_type": "code",
   "execution_count": 17,
   "metadata": {},
   "outputs": [
    {
     "name": "stdout",
     "output_type": "stream",
     "text": [
      "2\n"
     ]
    }
   ],
   "source": [
    "tv_sala.muda_canal_para_cima()\n",
    "print(tv_sala.canal)"
   ]
  },
  {
   "cell_type": "code",
   "execution_count": 13,
   "metadata": {},
   "outputs": [
    {
     "data": {
      "text/plain": [
       "True"
      ]
     },
     "execution_count": 13,
     "metadata": {},
     "output_type": "execute_result"
    }
   ],
   "source": [
    "tv_sala.ligada"
   ]
  },
  {
   "cell_type": "code",
   "execution_count": 14,
   "metadata": {},
   "outputs": [
    {
     "name": "stdout",
     "output_type": "stream",
     "text": [
      "False\n"
     ]
    }
   ],
   "source": [
    "tv_sala.liga_desliga()\n",
    "print(tv_sala.ligada)"
   ]
  },
  {
   "cell_type": "markdown",
   "metadata": {},
   "source": [
    "Poderia simplesmente fazer:\n",
    "\n",
    "```python\n",
    "tv_sala.ligada = False\n",
    "```\n",
    "\n",
    "mas nao e uma boa pratica!"
   ]
  },
  {
   "cell_type": "markdown",
   "metadata": {},
   "source": [
    "**Exemplo 2: classe fogão**"
   ]
  },
  {
   "cell_type": "code",
   "execution_count": 18,
   "metadata": {},
   "outputs": [
    {
     "name": "stdout",
     "output_type": "stream",
     "text": [
      "O fogão 1 está aceso:  True\n",
      "O fogão 2 está aceso:  True\n",
      "O fogão 1 está aceso:  False\n",
      "O fogão 2 está aceso:  False\n"
     ]
    }
   ],
   "source": [
    "# definição de classes\n",
    "\n",
    "class Fogao:\n",
    "    def __init__(self, bocas):\n",
    "        self.aceso = False\n",
    "        self.nbocas = bocas\n",
    "    def acende(self):\n",
    "        if self.aceso == False:\n",
    "            self.aceso = True\n",
    "    def apaga(self):\n",
    "        if self.aceso == True:\n",
    "            self.aceso = False\n",
    "\n",
    "\n",
    "# Criação de objetos\n",
    "\n",
    "fogao1 = Fogao(4)\n",
    "\n",
    "fogao2 = Fogao(6)\n",
    "\n",
    "fogao1.acende()\n",
    "print('O fogão 1 está aceso: ', fogao1.aceso)\n",
    "\n",
    "fogao2.acende()\n",
    "print('O fogão 2 está aceso: ', fogao2.aceso)\n",
    "\n",
    "\n",
    "fogao1.apaga()\n",
    "print('O fogão 1 está aceso: ', fogao1.aceso)\n",
    "\n",
    "\n",
    "fogao2.apaga()\n",
    "print('O fogão 2 está aceso: ', fogao2.aceso)"
   ]
  },
  {
   "cell_type": "markdown",
   "metadata": {},
   "source": [
    "**Exemplo 3: classe espaço vetorial $R^{2}$**"
   ]
  },
  {
   "cell_type": "code",
   "execution_count": 19,
   "metadata": {},
   "outputs": [
    {
     "name": "stdout",
     "output_type": "stream",
     "text": [
      "A norma do vetor 2 é igual a:  5.0\n",
      "A direção do vetor 2 é dada pela tangente a seguir:  4.131728990893145\n"
     ]
    }
   ],
   "source": [
    "# Importação de pacotes\n",
    "\n",
    "import math as mt\n",
    "\n",
    "\n",
    "# definição da classe dos vetores em R2\n",
    "\n",
    "\n",
    "class R2:\n",
    "    def __init__(self, x, y):\n",
    "        self.coordenada1 = x\n",
    "        self.coordenada2 = y\n",
    "        self.norma = mt.sqrt(x**2 + y**2)\n",
    "        self.direcao = mt.tan(y/x)\n",
    "\n",
    "# definição de funções\n",
    "\n",
    "\n",
    "    \n",
    "# Criação de vetores\n",
    "\n",
    "\n",
    "\n",
    "vetor1 = R2(1,1)\n",
    "\n",
    "vetor2 = R2(3,4)\n",
    "\n",
    "print('A norma do vetor 2 é igual a: ', vetor2.norma)\n",
    "\n",
    "print('A direção do vetor 2 é dada pela tangente a seguir: ', vetor2.direcao)\n"
   ]
  },
  {
   "cell_type": "markdown",
   "metadata": {},
   "source": [
    "**Exemplo 4: negociação entre dois indivíduos em equilíbrio**"
   ]
  },
  {
   "cell_type": "code",
   "execution_count": 23,
   "metadata": {},
   "outputs": [
    {
     "name": "stdout",
     "output_type": "stream",
     "text": [
      "dotacão de bem 1 do agente 1 é igual a  1.5\n",
      "dotacão de bem 2 do agente 1 é igual a  1.5\n",
      "dotacao de bem 1 do agente 2 é igual a : 1.5\n",
      "dotacao de bem 2 do agente 2 é igual a : 1.5\n"
     ]
    }
   ],
   "source": [
    "# Definição de classes\n",
    "\n",
    "class Agentes:\n",
    "    def __init__(self, dotacao1, dotacao2):\n",
    "        self.dotacaob1 = dotacao1\n",
    "        self.dotacaob2 = dotacao2\n",
    "        \n",
    "    def compra1(self, b2):\n",
    "        if self.dotacaob2 > b2:\n",
    "            self.dotacaob1+=b2\n",
    "            self.dotacaob2-=b2\n",
    "\n",
    "    def compra2(self, b1):\n",
    "        if self.dotacaob1 > b1:\n",
    "            self.dotacaob2+=b1\n",
    "            self.dotacaob1-=b1\n",
    "      \n",
    "        \n",
    "# Criação de agentes\n",
    "\n",
    "agente1 = Agentes(1,2)\n",
    "\n",
    "agente2 = Agentes(2,1)\n",
    "\n",
    "\n",
    "# Agente 1 compra bem 1 ao preço de 1:1\n",
    "\n",
    "agente1.compra1(0.5)\n",
    "\n",
    "agente2.compra2(0.5)\n",
    "\n",
    "# Resultado\n",
    "\n",
    "print('dotacão de bem 1 do agente 1 é igual a ', agente1.dotacaob1)\n",
    "\n",
    "print('dotacão de bem 2 do agente 1 é igual a ', agente1.dotacaob2)\n",
    "\n",
    "print('dotacao de bem 1 do agente 2 é igual a :', agente2.dotacaob1)\n",
    "\n",
    "print('dotacao de bem 2 do agente 2 é igual a :', agente2.dotacaob2)"
   ]
  },
  {
   "cell_type": "markdown",
   "metadata": {},
   "source": [
    "## Herança\n",
    "\n",
    "É uma característica distintiva da programação orientada a objetos segundo a qual se pode criar novas classes a partir de classes previamente definidas, ou seja, é criar subconjuntos a partir de conjuntos.\n",
    "\n",
    "Vejamos o exemplo de criar as classes pessoa física e pessoa jurídica a partir da classe pessoa."
   ]
  },
  {
   "cell_type": "code",
   "execution_count": 20,
   "metadata": {},
   "outputs": [],
   "source": [
    "class Pessoa:\n",
    "    def __init__(self, nome = '', idade = 0):\n",
    "        self.nome = nome\n",
    "        self.idade = idade\n",
    "    def getIdade(self):\n",
    "        return self.idade\n",
    "\n",
    "class PessoaFisica(Pessoa):\n",
    "    def __init__(self, nome = '', idade = 0, CPF = ''):\n",
    "        super().__init__(nome, idade)\n",
    "        self.CPF = CPF\n",
    "    \n",
    "\n",
    "class PessoaJuridica(Pessoa):\n",
    "    def __init__(self, nome = '', idade = 0, CNPJ = ''):\n",
    "        super().__init__(self, nome, idade)\n",
    "        self. CNPJ = CNPJ\n",
    "\n",
    "augusto = PessoaFisica('Augusto', 15, '391.732.951-42')"
   ]
  },
  {
   "cell_type": "markdown",
   "metadata": {},
   "source": [
    "**Variáveis públicas e privadas**\n",
    "\n",
    "Uma variável (atributos ou métodos) pública é aquela que pode ser acessada diretamente do objeto ao passo que uma variável privada não o pode.\n",
    "\n",
    "As variáveis públicas são costumeiramente usadas para prover interface (API) entre os objetos, isto é, permitir que um objeto chame o método de outro ou mesmo um usuário obtenha o valor de um atributo do objeto.  Por outro lado, as variáveis privadas são usadas para implementação do objeto, podendo ser alteradas livremente pelo programador no desenvolvimento de versões de seu código.  Assim, por boa prática, é melhor implementar um método getIdade para informar a idade do objeto do que permitir o acesso direto ao atributo.  Porém, Python não dispõe de variáveis privadas e os atributos podem ser obtidos e alterados conforme se vê no código abaixo:"
   ]
  },
  {
   "cell_type": "code",
   "execution_count": 71,
   "metadata": {},
   "outputs": [
    {
     "data": {
      "text/plain": [
       "15"
      ]
     },
     "execution_count": 71,
     "metadata": {},
     "output_type": "execute_result"
    }
   ],
   "source": [
    "augusto.idade"
   ]
  },
  {
   "cell_type": "code",
   "execution_count": 72,
   "metadata": {},
   "outputs": [
    {
     "data": {
      "text/plain": [
       "15"
      ]
     },
     "execution_count": 72,
     "metadata": {},
     "output_type": "execute_result"
    }
   ],
   "source": [
    "augusto.getIdade()"
   ]
  },
  {
   "cell_type": "markdown",
   "metadata": {},
   "source": [
    "## Polimorfismo\n",
    "\n",
    "Polimorfismo é uma propriedade de uma função ou método segundo a qual ela pode realizar diferentes tarefas a depender de quem a chama.  Ocorre, em orientação a objetos, principalmente quando uma classe tem um método vazio e suas subclasses preenchem este método com códigos distintos como no exemplo abaixo."
   ]
  },
  {
   "cell_type": "code",
   "execution_count": 23,
   "metadata": {},
   "outputs": [],
   "source": [
    "from math import pi\n",
    "\n",
    "class Forma:\n",
    "    def __init__(self):\n",
    "        pass\n",
    "    def get_Area(self):\n",
    "        pass\n",
    "\n",
    "class Circulo(Forma):\n",
    "    import math\n",
    "    def __init__(self, raio):\n",
    "        self.raio = raio\n",
    "    def get_Area(self):\n",
    "        return pi*(self.raio**2)\n"
   ]
  },
  {
   "cell_type": "code",
   "execution_count": 30,
   "metadata": {},
   "outputs": [],
   "source": [
    "a = Circulo(2)"
   ]
  },
  {
   "cell_type": "code",
   "execution_count": 31,
   "metadata": {},
   "outputs": [
    {
     "data": {
      "text/plain": [
       "12.566370614359172"
      ]
     },
     "execution_count": 31,
     "metadata": {},
     "output_type": "execute_result"
    }
   ],
   "source": [
    "a.get_Area()"
   ]
  },
  {
   "cell_type": "markdown",
   "metadata": {},
   "source": [
    "Observe que a classe Forma dispõe do método get_Area(), mas nela ele não provê o código.  Já na classe Circulo (que é filha de Forma e herda o método get_Area()) o código é fornecido.\n",
    "\n",
    "**Exercício**\n",
    "\n",
    "Escreva uma classe Quadrado (filha de Forma) onde você fornece o código para o método get_Area() e note que o mesmo método se comporta de modo diferente na classe Quadrado e na classe Circulo.  Isto é exatamente o que se denomina **polimorfismo**."
   ]
  },
  {
   "cell_type": "code",
   "execution_count": 35,
   "metadata": {},
   "outputs": [],
   "source": [
    "class Quadrado(Forma):\n",
    "    import math\n",
    "    def __init__(self, lado):\n",
    "        self.lado = lado\n",
    "    def get_Area(self):\n",
    "        return (self.lado*self.lado)"
   ]
  },
  {
   "cell_type": "code",
   "execution_count": 36,
   "metadata": {},
   "outputs": [],
   "source": [
    "q = Quadrado(3)"
   ]
  },
  {
   "cell_type": "code",
   "execution_count": 37,
   "metadata": {},
   "outputs": [
    {
     "data": {
      "text/plain": [
       "9"
      ]
     },
     "execution_count": 37,
     "metadata": {},
     "output_type": "execute_result"
    }
   ],
   "source": [
    "q.get_Area()"
   ]
  }
 ],
 "metadata": {
  "anaconda-cloud": {},
  "celltoolbar": "Slideshow",
  "kernelspec": {
   "display_name": "Python 3",
   "language": "python",
   "name": "python3"
  },
  "language_info": {
   "codemirror_mode": {
    "name": "ipython",
    "version": 3
   },
   "file_extension": ".py",
   "mimetype": "text/x-python",
   "name": "python",
   "nbconvert_exporter": "python",
   "pygments_lexer": "ipython3",
   "version": "3.6.5"
  }
 },
 "nbformat": 4,
 "nbformat_minor": 2
}
